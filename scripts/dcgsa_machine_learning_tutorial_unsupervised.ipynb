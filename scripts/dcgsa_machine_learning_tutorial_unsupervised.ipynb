{
  "nbformat": 4,
  "nbformat_minor": 0,
  "metadata": {
    "kernelspec": {
      "display_name": "Python 3",
      "language": "python",
      "name": "python3"
    },
    "language_info": {
      "codemirror_mode": {
        "name": "ipython",
        "version": 3
      },
      "file_extension": ".py",
      "mimetype": "text/x-python",
      "name": "python",
      "nbconvert_exporter": "python",
      "pygments_lexer": "ipython3",
      "version": "3.7.2"
    },
    "colab": {
      "name": "dcgsa_machine_learning_tutorial_unsupervised.ipynb",
      "provenance": [],
      "collapsed_sections": [
        "qacirSfhktWD"
      ],
      "toc_visible": true
    }
  },
  "cells": [
    {
      "cell_type": "markdown",
      "metadata": {
        "id": "7nqBSsdnktT4"
      },
      "source": [
        "# **Unsupervised Learning**"
      ]
    },
    {
      "cell_type": "markdown",
      "metadata": {
        "id": "9aKMcbCnktT7"
      },
      "source": [
        "Unsupervised learning describes a collection of techniques that attempt to find structure in data.\n",
        "\n",
        "Examples include:\n",
        "\n",
        "* __Clustering__: attempts to divide data into groups based off a definition of similarity, such as distance in univariate or multidimensional space.\n",
        "* __Dimensionality Reduction__: Attempts to encode high dimensional data (e.g. tens of thousands of variables) into a smaller set of variables\n",
        "\n",
        "This is in contrast to supervised learning, where, given an input $x$ and output $y$ we attempt to learn a function $f(x)$ = $y$, where $x$ and $y$ can be scalars (numbers) , vectors (lines of numbers), or matrices (2D array of numbers). In unsupervised learning, we are only given $x$ and no output, and the goal is to find structure in a collection of data points.\n",
        "\n",
        "Here, we'll go over 2 Techniques: dimensionality reduction and clustering."
      ]
    },
    {
      "cell_type": "markdown",
      "metadata": {
        "id": "YkEpWrpGktT9"
      },
      "source": [
        "## Dimensionality Reduction\n",
        "\n",
        "Often we can deal with datasets that exist in high dimensional spaces (e.g $d$ = 10,000, where $d$ is the number of variables in the data). The breast cancer dataset we shall explore has 30 dimensions for 'input data' features  plus 1 for 'target' label (i.e. whether or not the example is benign or malignant). Not only is it impossible for people to visualize data beyond 3 dimensions, but when we use supervised learning techniques such as K-nearest neighbor classification or an unsupervised method such as K-means clustering, the assumption that similar datapoints are closer to one another than dissimilar points in terms of Euclidean distance is violated<sup>1</sup>. The violation of this assumption is called the _curse of dimensionality_. A further discussion of this topic can be found [here](https://www.cs.cornell.edu/courses/cs4780/2018fa/lectures/lecturenote02_kNN.html).\n",
        "\n",
        "What dimensionality reduction can accomplish is to pick up neat properties of your data in high dimensional space and express them in a much lower dimensional space. This allows an automated fashion of finding those neat properties while also expressing data in a way better suited for downstream applications such as clustering or classification. Examples include Princpal Components Analysis (PCA), Factor Analysis, Locally Linear Embedding, and more. Today we'll go over PCA.\n",
        "\n",
        "1. For 2D and 3D data, Euclidean distance is just the length of a line drawn between two points $p$ and $q$ if you plotted them in 2 or 3D, and its formula is $\\sqrt{\\sum_{d=1}^D (p_d - q_d)^2} $, where $d$ denotes an individual variable and $D$ is the total number of variables. Here's an example in 2D from Wikipedia:\n",
        "\n",
        "![Euclidean Distance in 2D (Wikipedia)](https://upload.wikimedia.org/wikipedia/commons/5/55/Euclidean_distance_2d.svg)\n",
        "\n",
        "### Overview of PCA:\n",
        "\n",
        "Without diving into linear algebra, what PCA tries to do at the end of the day is express the data as weighted sums of the data's variables.\n",
        "\n",
        "The procedure is as follows:\n",
        "\n",
        "1. Standard Normalize Data. Part of the reason we do this is so the procedure doesn't give too much weight to certain variables based on certain variables having a wider range of values.\n",
        "\n",
        "    Formula is as follows: $b_{id} = (x_{id} - \\bar{x_d})/\\sigma_d$, where $i$ denotes sample, $d$ denotes variable,  $\\bar{x_d}$ denotes mean for the variable among all $x_{id}$, and $\\sigma_d$ denotes the standard deviation for variable d\n",
        "\n",
        "2. calculate a variable $v_1$ = $\\sum_{d=1}^{D} a_d b_d$ such that $Var[v_1]$ (variance of the new variable) is maximized, with the constraint that $\\sum_{d=1}^{D} a_d^2$ = 1\n",
        "\n",
        "3. repeat step 2, but subject to the constraint that the new variable, $v_2$ is uncorrelated with $v_1$, i.e correlation between the two variables = 0.\n",
        "\n",
        "4. Repeat step 3, again and again, subject to the constraint that any new variable $v_k$ computed for iteration $l$ is not correlated with any variables $v_{k'}$ where $k' < k$ (i.e not correlated with any previously computed variables).\n",
        "\n",
        "There's an upper limit on the amount of PCs that can be computed, but we're not discussing that today as it requires knowledge of linear algebra.\n",
        "\n",
        "For a more in depth discussion of PCA, here's a reference you can look into:\n",
        "\n",
        "* [Stanford Engineering Everywhere, CS229 PCA Notes](https://see.stanford.edu/materials/aimlcs229/cs229-notes10.pdf)\n",
        "\n",
        "Let's dive into the data!"
      ]
    },
    {
      "cell_type": "markdown",
      "metadata": {
        "id": "9ICdKigAktT-"
      },
      "source": [
        "### PCA on Breast Cancer Dataset\n",
        "\n"
      ]
    },
    {
      "cell_type": "code",
      "metadata": {
        "id": "27dQPN97ktT_"
      },
      "source": [
        "import numpy as np\n",
        "from sklearn.datasets import load_breast_cancer\n",
        "from sklearn import preprocessing\n",
        "from ipywidgets import interact, fixed\n",
        "from matplotlib import pyplot as plt\n",
        "import seaborn\n",
        "import pandas as pd\n",
        "\n",
        "data = load_breast_cancer()"
      ],
      "execution_count": null,
      "outputs": []
    },
    {
      "cell_type": "markdown",
      "metadata": {
        "id": "4P9-Ms2ektUE"
      },
      "source": [
        "##### Data\n",
        "\n",
        "The data we're using consists of attributes obtained from imaging data undergoing screening for breast cancer. Features correspond to geometric qualities of cell nuclei (objects that hold the DNA in a cell).\n",
        "\n",
        "for more details, see (sklearn website)[https://scikit-learn.org/stable/datasets/index.html] and (original source)[https://archive.ics.uci.edu/ml/datasets/Breast+Cancer+Wisconsin+(Diagnostic)]"
      ]
    },
    {
      "cell_type": "code",
      "metadata": {
        "id": "MoD_g9LTktUF",
        "outputId": "db4f6465-9676-4967-f580-0ea89fb01358"
      },
      "source": [
        "len(data.feature_names)"
      ],
      "execution_count": null,
      "outputs": [
        {
          "output_type": "execute_result",
          "data": {
            "text/plain": [
              "30"
            ]
          },
          "metadata": {
            "tags": []
          },
          "execution_count": 2
        }
      ]
    },
    {
      "cell_type": "code",
      "metadata": {
        "id": "hFO-vn_VktUK",
        "outputId": "d60335d1-3365-49a7-fd75-3ddc4995e9b1"
      },
      "source": [
        "# dimensions of data: 569 examples x 30 features\n",
        "data['data'].shape"
      ],
      "execution_count": null,
      "outputs": [
        {
          "output_type": "execute_result",
          "data": {
            "text/plain": [
              "(569, 30)"
            ]
          },
          "metadata": {
            "tags": []
          },
          "execution_count": 3
        }
      ]
    },
    {
      "cell_type": "code",
      "metadata": {
        "id": "s03rRz4YktUR"
      },
      "source": [
        "# Examine Data\n",
        "breast_cancer_df = pd.DataFrame(data = data['data'], columns = data.feature_names)"
      ],
      "execution_count": null,
      "outputs": []
    },
    {
      "cell_type": "code",
      "metadata": {
        "id": "pl-WD10lktUX",
        "outputId": "4fc5d5b0-2a6e-48bc-e35e-b12f4183df06"
      },
      "source": [
        "# Columns 1-15 (0-14 in 0 based indexing)\n",
        "breast_cancer_df.iloc[:, 0:15].head()"
      ],
      "execution_count": null,
      "outputs": [
        {
          "output_type": "execute_result",
          "data": {
            "text/html": [
              "<div>\n",
              "<style scoped>\n",
              "    .dataframe tbody tr th:only-of-type {\n",
              "        vertical-align: middle;\n",
              "    }\n",
              "\n",
              "    .dataframe tbody tr th {\n",
              "        vertical-align: top;\n",
              "    }\n",
              "\n",
              "    .dataframe thead th {\n",
              "        text-align: right;\n",
              "    }\n",
              "</style>\n",
              "<table border=\"1\" class=\"dataframe\">\n",
              "  <thead>\n",
              "    <tr style=\"text-align: right;\">\n",
              "      <th></th>\n",
              "      <th>mean radius</th>\n",
              "      <th>mean texture</th>\n",
              "      <th>mean perimeter</th>\n",
              "      <th>mean area</th>\n",
              "      <th>mean smoothness</th>\n",
              "      <th>mean compactness</th>\n",
              "      <th>mean concavity</th>\n",
              "      <th>mean concave points</th>\n",
              "      <th>mean symmetry</th>\n",
              "      <th>mean fractal dimension</th>\n",
              "      <th>radius error</th>\n",
              "      <th>texture error</th>\n",
              "      <th>perimeter error</th>\n",
              "      <th>area error</th>\n",
              "      <th>smoothness error</th>\n",
              "    </tr>\n",
              "  </thead>\n",
              "  <tbody>\n",
              "    <tr>\n",
              "      <th>0</th>\n",
              "      <td>17.99</td>\n",
              "      <td>10.38</td>\n",
              "      <td>122.80</td>\n",
              "      <td>1001.0</td>\n",
              "      <td>0.11840</td>\n",
              "      <td>0.27760</td>\n",
              "      <td>0.3001</td>\n",
              "      <td>0.14710</td>\n",
              "      <td>0.2419</td>\n",
              "      <td>0.07871</td>\n",
              "      <td>1.0950</td>\n",
              "      <td>0.9053</td>\n",
              "      <td>8.589</td>\n",
              "      <td>153.40</td>\n",
              "      <td>0.006399</td>\n",
              "    </tr>\n",
              "    <tr>\n",
              "      <th>1</th>\n",
              "      <td>20.57</td>\n",
              "      <td>17.77</td>\n",
              "      <td>132.90</td>\n",
              "      <td>1326.0</td>\n",
              "      <td>0.08474</td>\n",
              "      <td>0.07864</td>\n",
              "      <td>0.0869</td>\n",
              "      <td>0.07017</td>\n",
              "      <td>0.1812</td>\n",
              "      <td>0.05667</td>\n",
              "      <td>0.5435</td>\n",
              "      <td>0.7339</td>\n",
              "      <td>3.398</td>\n",
              "      <td>74.08</td>\n",
              "      <td>0.005225</td>\n",
              "    </tr>\n",
              "    <tr>\n",
              "      <th>2</th>\n",
              "      <td>19.69</td>\n",
              "      <td>21.25</td>\n",
              "      <td>130.00</td>\n",
              "      <td>1203.0</td>\n",
              "      <td>0.10960</td>\n",
              "      <td>0.15990</td>\n",
              "      <td>0.1974</td>\n",
              "      <td>0.12790</td>\n",
              "      <td>0.2069</td>\n",
              "      <td>0.05999</td>\n",
              "      <td>0.7456</td>\n",
              "      <td>0.7869</td>\n",
              "      <td>4.585</td>\n",
              "      <td>94.03</td>\n",
              "      <td>0.006150</td>\n",
              "    </tr>\n",
              "    <tr>\n",
              "      <th>3</th>\n",
              "      <td>11.42</td>\n",
              "      <td>20.38</td>\n",
              "      <td>77.58</td>\n",
              "      <td>386.1</td>\n",
              "      <td>0.14250</td>\n",
              "      <td>0.28390</td>\n",
              "      <td>0.2414</td>\n",
              "      <td>0.10520</td>\n",
              "      <td>0.2597</td>\n",
              "      <td>0.09744</td>\n",
              "      <td>0.4956</td>\n",
              "      <td>1.1560</td>\n",
              "      <td>3.445</td>\n",
              "      <td>27.23</td>\n",
              "      <td>0.009110</td>\n",
              "    </tr>\n",
              "    <tr>\n",
              "      <th>4</th>\n",
              "      <td>20.29</td>\n",
              "      <td>14.34</td>\n",
              "      <td>135.10</td>\n",
              "      <td>1297.0</td>\n",
              "      <td>0.10030</td>\n",
              "      <td>0.13280</td>\n",
              "      <td>0.1980</td>\n",
              "      <td>0.10430</td>\n",
              "      <td>0.1809</td>\n",
              "      <td>0.05883</td>\n",
              "      <td>0.7572</td>\n",
              "      <td>0.7813</td>\n",
              "      <td>5.438</td>\n",
              "      <td>94.44</td>\n",
              "      <td>0.011490</td>\n",
              "    </tr>\n",
              "  </tbody>\n",
              "</table>\n",
              "</div>"
            ],
            "text/plain": [
              "   mean radius  mean texture  mean perimeter  mean area  mean smoothness  \\\n",
              "0        17.99         10.38          122.80     1001.0          0.11840   \n",
              "1        20.57         17.77          132.90     1326.0          0.08474   \n",
              "2        19.69         21.25          130.00     1203.0          0.10960   \n",
              "3        11.42         20.38           77.58      386.1          0.14250   \n",
              "4        20.29         14.34          135.10     1297.0          0.10030   \n",
              "\n",
              "   mean compactness  mean concavity  mean concave points  mean symmetry  \\\n",
              "0           0.27760          0.3001              0.14710         0.2419   \n",
              "1           0.07864          0.0869              0.07017         0.1812   \n",
              "2           0.15990          0.1974              0.12790         0.2069   \n",
              "3           0.28390          0.2414              0.10520         0.2597   \n",
              "4           0.13280          0.1980              0.10430         0.1809   \n",
              "\n",
              "   mean fractal dimension  radius error  texture error  perimeter error  \\\n",
              "0                 0.07871        1.0950         0.9053            8.589   \n",
              "1                 0.05667        0.5435         0.7339            3.398   \n",
              "2                 0.05999        0.7456         0.7869            4.585   \n",
              "3                 0.09744        0.4956         1.1560            3.445   \n",
              "4                 0.05883        0.7572         0.7813            5.438   \n",
              "\n",
              "   area error  smoothness error  \n",
              "0      153.40          0.006399  \n",
              "1       74.08          0.005225  \n",
              "2       94.03          0.006150  \n",
              "3       27.23          0.009110  \n",
              "4       94.44          0.011490  "
            ]
          },
          "metadata": {
            "tags": []
          },
          "execution_count": 5
        }
      ]
    },
    {
      "cell_type": "code",
      "metadata": {
        "id": "ZBJk7SRzktUd",
        "outputId": "a4a5cac2-8d4f-4d88-fa02-e7fed7033b44"
      },
      "source": [
        "# Columns 16-30 (15-29 in 0 based indexing)\n",
        "breast_cancer_df.iloc[:, 15:30].head()"
      ],
      "execution_count": null,
      "outputs": [
        {
          "output_type": "execute_result",
          "data": {
            "text/html": [
              "<div>\n",
              "<style scoped>\n",
              "    .dataframe tbody tr th:only-of-type {\n",
              "        vertical-align: middle;\n",
              "    }\n",
              "\n",
              "    .dataframe tbody tr th {\n",
              "        vertical-align: top;\n",
              "    }\n",
              "\n",
              "    .dataframe thead th {\n",
              "        text-align: right;\n",
              "    }\n",
              "</style>\n",
              "<table border=\"1\" class=\"dataframe\">\n",
              "  <thead>\n",
              "    <tr style=\"text-align: right;\">\n",
              "      <th></th>\n",
              "      <th>compactness error</th>\n",
              "      <th>concavity error</th>\n",
              "      <th>concave points error</th>\n",
              "      <th>symmetry error</th>\n",
              "      <th>fractal dimension error</th>\n",
              "      <th>worst radius</th>\n",
              "      <th>worst texture</th>\n",
              "      <th>worst perimeter</th>\n",
              "      <th>worst area</th>\n",
              "      <th>worst smoothness</th>\n",
              "      <th>worst compactness</th>\n",
              "      <th>worst concavity</th>\n",
              "      <th>worst concave points</th>\n",
              "      <th>worst symmetry</th>\n",
              "      <th>worst fractal dimension</th>\n",
              "    </tr>\n",
              "  </thead>\n",
              "  <tbody>\n",
              "    <tr>\n",
              "      <th>0</th>\n",
              "      <td>0.04904</td>\n",
              "      <td>0.05373</td>\n",
              "      <td>0.01587</td>\n",
              "      <td>0.03003</td>\n",
              "      <td>0.006193</td>\n",
              "      <td>25.38</td>\n",
              "      <td>17.33</td>\n",
              "      <td>184.60</td>\n",
              "      <td>2019.0</td>\n",
              "      <td>0.1622</td>\n",
              "      <td>0.6656</td>\n",
              "      <td>0.7119</td>\n",
              "      <td>0.2654</td>\n",
              "      <td>0.4601</td>\n",
              "      <td>0.11890</td>\n",
              "    </tr>\n",
              "    <tr>\n",
              "      <th>1</th>\n",
              "      <td>0.01308</td>\n",
              "      <td>0.01860</td>\n",
              "      <td>0.01340</td>\n",
              "      <td>0.01389</td>\n",
              "      <td>0.003532</td>\n",
              "      <td>24.99</td>\n",
              "      <td>23.41</td>\n",
              "      <td>158.80</td>\n",
              "      <td>1956.0</td>\n",
              "      <td>0.1238</td>\n",
              "      <td>0.1866</td>\n",
              "      <td>0.2416</td>\n",
              "      <td>0.1860</td>\n",
              "      <td>0.2750</td>\n",
              "      <td>0.08902</td>\n",
              "    </tr>\n",
              "    <tr>\n",
              "      <th>2</th>\n",
              "      <td>0.04006</td>\n",
              "      <td>0.03832</td>\n",
              "      <td>0.02058</td>\n",
              "      <td>0.02250</td>\n",
              "      <td>0.004571</td>\n",
              "      <td>23.57</td>\n",
              "      <td>25.53</td>\n",
              "      <td>152.50</td>\n",
              "      <td>1709.0</td>\n",
              "      <td>0.1444</td>\n",
              "      <td>0.4245</td>\n",
              "      <td>0.4504</td>\n",
              "      <td>0.2430</td>\n",
              "      <td>0.3613</td>\n",
              "      <td>0.08758</td>\n",
              "    </tr>\n",
              "    <tr>\n",
              "      <th>3</th>\n",
              "      <td>0.07458</td>\n",
              "      <td>0.05661</td>\n",
              "      <td>0.01867</td>\n",
              "      <td>0.05963</td>\n",
              "      <td>0.009208</td>\n",
              "      <td>14.91</td>\n",
              "      <td>26.50</td>\n",
              "      <td>98.87</td>\n",
              "      <td>567.7</td>\n",
              "      <td>0.2098</td>\n",
              "      <td>0.8663</td>\n",
              "      <td>0.6869</td>\n",
              "      <td>0.2575</td>\n",
              "      <td>0.6638</td>\n",
              "      <td>0.17300</td>\n",
              "    </tr>\n",
              "    <tr>\n",
              "      <th>4</th>\n",
              "      <td>0.02461</td>\n",
              "      <td>0.05688</td>\n",
              "      <td>0.01885</td>\n",
              "      <td>0.01756</td>\n",
              "      <td>0.005115</td>\n",
              "      <td>22.54</td>\n",
              "      <td>16.67</td>\n",
              "      <td>152.20</td>\n",
              "      <td>1575.0</td>\n",
              "      <td>0.1374</td>\n",
              "      <td>0.2050</td>\n",
              "      <td>0.4000</td>\n",
              "      <td>0.1625</td>\n",
              "      <td>0.2364</td>\n",
              "      <td>0.07678</td>\n",
              "    </tr>\n",
              "  </tbody>\n",
              "</table>\n",
              "</div>"
            ],
            "text/plain": [
              "   compactness error  concavity error  concave points error  symmetry error  \\\n",
              "0            0.04904          0.05373               0.01587         0.03003   \n",
              "1            0.01308          0.01860               0.01340         0.01389   \n",
              "2            0.04006          0.03832               0.02058         0.02250   \n",
              "3            0.07458          0.05661               0.01867         0.05963   \n",
              "4            0.02461          0.05688               0.01885         0.01756   \n",
              "\n",
              "   fractal dimension error  worst radius  worst texture  worst perimeter  \\\n",
              "0                 0.006193         25.38          17.33           184.60   \n",
              "1                 0.003532         24.99          23.41           158.80   \n",
              "2                 0.004571         23.57          25.53           152.50   \n",
              "3                 0.009208         14.91          26.50            98.87   \n",
              "4                 0.005115         22.54          16.67           152.20   \n",
              "\n",
              "   worst area  worst smoothness  worst compactness  worst concavity  \\\n",
              "0      2019.0            0.1622             0.6656           0.7119   \n",
              "1      1956.0            0.1238             0.1866           0.2416   \n",
              "2      1709.0            0.1444             0.4245           0.4504   \n",
              "3       567.7            0.2098             0.8663           0.6869   \n",
              "4      1575.0            0.1374             0.2050           0.4000   \n",
              "\n",
              "   worst concave points  worst symmetry  worst fractal dimension  \n",
              "0                0.2654          0.4601                  0.11890  \n",
              "1                0.1860          0.2750                  0.08902  \n",
              "2                0.2430          0.3613                  0.08758  \n",
              "3                0.2575          0.6638                  0.17300  \n",
              "4                0.1625          0.2364                  0.07678  "
            ]
          },
          "metadata": {
            "tags": []
          },
          "execution_count": 6
        }
      ]
    },
    {
      "cell_type": "code",
      "metadata": {
        "id": "ezloXPoektUh",
        "colab": {
          "referenced_widgets": [
            "7bbc29fdcaf94cafb5f6b39c8e92ed6e"
          ]
        },
        "outputId": "22031831-5042-4352-fbda-69cd65c226ce"
      },
      "source": [
        "@interact\n",
        "# Interactive Histogram, using interact decorator function from ipywidgets\n",
        "def do_hist(var_name = data.feature_names, df = fixed(breast_cancer_df)):\n",
        "    # Inputs:\n",
        "    #       var_name: variable name. change variable name in menu to change variable displaed\n",
        "    #       df = data.frame to use. this is fixed\n",
        "    plt.hist(df[var_name].to_numpy())"
      ],
      "execution_count": null,
      "outputs": [
        {
          "output_type": "display_data",
          "data": {
            "application/vnd.jupyter.widget-view+json": {
              "model_id": "7bbc29fdcaf94cafb5f6b39c8e92ed6e",
              "version_major": 2,
              "version_minor": 0
            },
            "text/plain": [
              "interactive(children=(Dropdown(description='var_name', options=('mean radius', 'mean texture', 'mean perimeter…"
            ]
          },
          "metadata": {
            "tags": []
          }
        }
      ]
    },
    {
      "cell_type": "markdown",
      "metadata": {
        "id": "fWSHRJ51ktUm"
      },
      "source": [
        "Note that variables denote either continuous or count data. PCA will help us find correlated structure. However, we note that the data is not centered and scaled, and while the sklearn PCA workflow does automatic centering of data, it does not scale data such that it's standard normalized. let's scale and center it now."
      ]
    },
    {
      "cell_type": "code",
      "metadata": {
        "id": "vWGJHZg1ktUm"
      },
      "source": [
        "data_scaled = preprocessing.scale(data['data'])\n",
        "data_scaled_df = pd.DataFrame(data = data_scaled, columns = data.feature_names)"
      ],
      "execution_count": null,
      "outputs": []
    },
    {
      "cell_type": "code",
      "metadata": {
        "scrolled": true,
        "id": "LIerk1vPktUq",
        "colab": {
          "referenced_widgets": [
            "a4a23b2e8fd247a0bb76c9d05b43acb4"
          ]
        },
        "outputId": "ef01e870-45ab-4d5a-eb0d-2bd265b9f34a"
      },
      "source": [
        "@interact\n",
        "# Interactive Histogram, using interact decorator function from ipywidgets\n",
        "def do_hist(var_name = data.feature_names, df = fixed(data_scaled_df)):\n",
        "    # Inputs:\n",
        "    #       var_name: variable name. change variable name in menu to change variable displaed\n",
        "    #       df = data.frame to use. this is fixed\n",
        "    plt.hist(df[var_name].to_numpy())"
      ],
      "execution_count": null,
      "outputs": [
        {
          "output_type": "display_data",
          "data": {
            "application/vnd.jupyter.widget-view+json": {
              "model_id": "a4a23b2e8fd247a0bb76c9d05b43acb4",
              "version_major": 2,
              "version_minor": 0
            },
            "text/plain": [
              "interactive(children=(Dropdown(description='var_name', options=('mean radius', 'mean texture', 'mean perimeter…"
            ]
          },
          "metadata": {
            "tags": []
          }
        }
      ]
    },
    {
      "cell_type": "code",
      "metadata": {
        "id": "m4viYBX7ktUt",
        "outputId": "25784062-49c3-4b5f-b382-4a4d6a159a13"
      },
      "source": [
        "# check actual numerical values of variance. here we see that we have variance = 1 for \n",
        "np.var(data_scaled, axis = 0)"
      ],
      "execution_count": null,
      "outputs": [
        {
          "output_type": "execute_result",
          "data": {
            "text/plain": [
              "array([1., 1., 1., 1., 1., 1., 1., 1., 1., 1., 1., 1., 1., 1., 1., 1., 1.,\n",
              "       1., 1., 1., 1., 1., 1., 1., 1., 1., 1., 1., 1., 1.])"
            ]
          },
          "metadata": {
            "tags": []
          },
          "execution_count": 10
        }
      ]
    },
    {
      "cell_type": "code",
      "metadata": {
        "id": "XzmqVkvhktUy",
        "outputId": "806be26c-91c3-4d75-c6b6-21f04341c4c3"
      },
      "source": [
        "# check actual numerical values of mean\n",
        "np.mean(data_scaled, axis = 0)"
      ],
      "execution_count": null,
      "outputs": [
        {
          "output_type": "execute_result",
          "data": {
            "text/plain": [
              "array([-3.16286735e-15, -6.53060890e-15, -7.07889127e-16, -8.79983452e-16,\n",
              "        6.13217737e-15, -1.12036918e-15, -4.42138027e-16,  9.73249991e-16,\n",
              "       -1.97167024e-15, -1.45363120e-15, -9.07641468e-16, -8.85349205e-16,\n",
              "        1.77367396e-15, -8.29155139e-16, -7.54180940e-16, -3.92187747e-16,\n",
              "        7.91789988e-16, -2.73946068e-16, -3.10823423e-16, -3.36676596e-16,\n",
              "       -2.33322442e-15,  1.76367415e-15, -1.19802625e-15,  5.04966114e-16,\n",
              "       -5.21317026e-15, -2.17478837e-15,  6.85645643e-16, -1.41265636e-16,\n",
              "       -2.28956670e-15,  2.57517109e-15])"
            ]
          },
          "metadata": {
            "tags": []
          },
          "execution_count": 11
        }
      ]
    },
    {
      "cell_type": "markdown",
      "metadata": {
        "id": "L6hqtFKGktU1"
      },
      "source": [
        "Variances are all = 1, means are all very close to 0. The latter result is likely a consequencec of numerical stability issues with very small numbers"
      ]
    },
    {
      "cell_type": "markdown",
      "metadata": {
        "id": "F_hokMXbktU2"
      },
      "source": [
        "##### Labels (Not Used Here for PCA)"
      ]
    },
    {
      "cell_type": "code",
      "metadata": {
        "id": "SqioV5xpktU3",
        "outputId": "20a3dad8-8e6e-49fe-d34f-8e9947d162e4"
      },
      "source": [
        "data.target_names"
      ],
      "execution_count": null,
      "outputs": [
        {
          "output_type": "execute_result",
          "data": {
            "text/plain": [
              "array(['malignant', 'benign'], dtype='<U9')"
            ]
          },
          "metadata": {
            "tags": []
          },
          "execution_count": 12
        }
      ]
    },
    {
      "cell_type": "code",
      "metadata": {
        "id": "VlegHJSFktU6",
        "outputId": "801b6401-145c-45ab-814d-e12bf451f484"
      },
      "source": [
        "np.unique(data['target'])"
      ],
      "execution_count": null,
      "outputs": [
        {
          "output_type": "execute_result",
          "data": {
            "text/plain": [
              "array([0, 1])"
            ]
          },
          "metadata": {
            "tags": []
          },
          "execution_count": 13
        }
      ]
    },
    {
      "cell_type": "code",
      "metadata": {
        "id": "qtnahATLktU-",
        "outputId": "6317bd6f-d9f8-4799-c0e9-e035c87f25c9"
      },
      "source": [
        "data['target']"
      ],
      "execution_count": null,
      "outputs": [
        {
          "output_type": "execute_result",
          "data": {
            "text/plain": [
              "array([0, 0, 0, 0, 0, 0, 0, 0, 0, 0, 0, 0, 0, 0, 0, 0, 0, 0, 0, 1, 1, 1,\n",
              "       0, 0, 0, 0, 0, 0, 0, 0, 0, 0, 0, 0, 0, 0, 0, 1, 0, 0, 0, 0, 0, 0,\n",
              "       0, 0, 1, 0, 1, 1, 1, 1, 1, 0, 0, 1, 0, 0, 1, 1, 1, 1, 0, 1, 0, 0,\n",
              "       1, 1, 1, 1, 0, 1, 0, 0, 1, 0, 1, 0, 0, 1, 1, 1, 0, 0, 1, 0, 0, 0,\n",
              "       1, 1, 1, 0, 1, 1, 0, 0, 1, 1, 1, 0, 0, 1, 1, 1, 1, 0, 1, 1, 0, 1,\n",
              "       1, 1, 1, 1, 1, 1, 1, 0, 0, 0, 1, 0, 0, 1, 1, 1, 0, 0, 1, 0, 1, 0,\n",
              "       0, 1, 0, 0, 1, 1, 0, 1, 1, 0, 1, 1, 1, 1, 0, 1, 1, 1, 1, 1, 1, 1,\n",
              "       1, 1, 0, 1, 1, 1, 1, 0, 0, 1, 0, 1, 1, 0, 0, 1, 1, 0, 0, 1, 1, 1,\n",
              "       1, 0, 1, 1, 0, 0, 0, 1, 0, 1, 0, 1, 1, 1, 0, 1, 1, 0, 0, 1, 0, 0,\n",
              "       0, 0, 1, 0, 0, 0, 1, 0, 1, 0, 1, 1, 0, 1, 0, 0, 0, 0, 1, 1, 0, 0,\n",
              "       1, 1, 1, 0, 1, 1, 1, 1, 1, 0, 0, 1, 1, 0, 1, 1, 0, 0, 1, 0, 1, 1,\n",
              "       1, 1, 0, 1, 1, 1, 1, 1, 0, 1, 0, 0, 0, 0, 0, 0, 0, 0, 0, 0, 0, 0,\n",
              "       0, 0, 1, 1, 1, 1, 1, 1, 0, 1, 0, 1, 1, 0, 1, 1, 0, 1, 0, 0, 1, 1,\n",
              "       1, 1, 1, 1, 1, 1, 1, 1, 1, 1, 1, 0, 1, 1, 0, 1, 0, 1, 1, 1, 1, 1,\n",
              "       1, 1, 1, 1, 1, 1, 1, 1, 1, 0, 1, 1, 1, 0, 1, 0, 1, 1, 1, 1, 0, 0,\n",
              "       0, 1, 1, 1, 1, 0, 1, 0, 1, 0, 1, 1, 1, 0, 1, 1, 1, 1, 1, 1, 1, 0,\n",
              "       0, 0, 1, 1, 1, 1, 1, 1, 1, 1, 1, 1, 1, 0, 0, 1, 0, 0, 0, 1, 0, 0,\n",
              "       1, 1, 1, 1, 1, 0, 1, 1, 1, 1, 1, 0, 1, 1, 1, 0, 1, 1, 0, 0, 1, 1,\n",
              "       1, 1, 1, 1, 0, 1, 1, 1, 1, 1, 1, 1, 0, 1, 1, 1, 1, 1, 0, 1, 1, 0,\n",
              "       1, 1, 1, 1, 1, 1, 1, 1, 1, 1, 1, 1, 0, 1, 0, 0, 1, 0, 1, 1, 1, 1,\n",
              "       1, 0, 1, 1, 0, 1, 0, 1, 1, 0, 1, 0, 1, 1, 1, 1, 1, 1, 1, 1, 0, 0,\n",
              "       1, 1, 1, 1, 1, 1, 0, 1, 1, 1, 1, 1, 1, 1, 1, 1, 1, 0, 1, 1, 1, 1,\n",
              "       1, 1, 1, 0, 1, 0, 1, 1, 0, 1, 1, 1, 1, 1, 0, 0, 1, 0, 1, 0, 1, 1,\n",
              "       1, 1, 1, 0, 1, 1, 0, 1, 0, 1, 0, 0, 1, 1, 1, 0, 1, 1, 1, 1, 1, 1,\n",
              "       1, 1, 1, 1, 1, 0, 1, 0, 0, 1, 1, 1, 1, 1, 1, 1, 1, 1, 1, 1, 1, 1,\n",
              "       1, 1, 1, 1, 1, 1, 1, 1, 1, 1, 1, 1, 0, 0, 0, 0, 0, 0, 1])"
            ]
          },
          "metadata": {
            "tags": []
          },
          "execution_count": 14
        }
      ]
    },
    {
      "cell_type": "markdown",
      "metadata": {
        "id": "nj3oCKBRktVC"
      },
      "source": [
        "Labels here just denote a known class of the object for a category, in this case whether or not a case is malignant or benign. Somewhat counterintuitively, they've chosen to label benign samples as 1, malignant samples as 0 (this was spot checked against source dataset)"
      ]
    },
    {
      "cell_type": "markdown",
      "metadata": {
        "id": "c2uHdYSJktVC"
      },
      "source": [
        "##### PCA of Data"
      ]
    },
    {
      "cell_type": "code",
      "metadata": {
        "id": "IMQP3mfCktVD",
        "outputId": "84b2f6d1-741c-4428-b040-5fd55052a91d"
      },
      "source": [
        "from sklearn import decomposition\n",
        "# setup object\n",
        "pca_obj = decomposition.PCA()\n",
        "# fit PCA, i.e. perform PCA algorithm on data\n",
        "pca_obj.fit(data_scaled)"
      ],
      "execution_count": null,
      "outputs": [
        {
          "output_type": "execute_result",
          "data": {
            "text/plain": [
              "PCA(copy=True, iterated_power='auto', n_components=None, random_state=None,\n",
              "    svd_solver='auto', tol=0.0, whiten=False)"
            ]
          },
          "metadata": {
            "tags": []
          },
          "execution_count": 15
        }
      ]
    },
    {
      "cell_type": "code",
      "metadata": {
        "id": "rZiY041jktVG",
        "outputId": "7cdc2216-0093-4ccc-f97b-963969f695e9"
      },
      "source": [
        "# explained variance per PC\n",
        "pcs_plot = np.arange(0,20)\n",
        "plt.plot(pcs_plot, pca_obj.explained_variance_ratio_[pcs_plot])\n",
        "plt.xticks(pcs_plot)\n",
        "plt.xlabel('PC')\n",
        "plt.ylabel('Fraction Variance Explained')\n",
        "plt.show()"
      ],
      "execution_count": null,
      "outputs": [
        {
          "output_type": "display_data",
          "data": {
            "image/png": "[encoded data removed]",
            "text/plain": [
              "<Figure size 432x288 with 1 Axes>"
            ]
          },
          "metadata": {
            "tags": [],
            "needs_background": "light"
          }
        }
      ]
    },
    {
      "cell_type": "code",
      "metadata": {
        "id": "TIBAwxCektVN",
        "outputId": "5b4bc950-ead3-4b38-9d53-30dfd8dec858"
      },
      "source": [
        "pca_obj.explained_variance_ratio_[pcs_plot]"
      ],
      "execution_count": null,
      "outputs": [
        {
          "output_type": "execute_result",
          "data": {
            "text/plain": [
              "array([0.44272026, 0.18971182, 0.09393163, 0.06602135, 0.05495768,\n",
              "       0.04024522, 0.02250734, 0.01588724, 0.01389649, 0.01168978,\n",
              "       0.00979719, 0.00870538, 0.00804525, 0.00523366, 0.00313783,\n",
              "       0.00266209, 0.00197997, 0.00175396, 0.00164925, 0.00103865])"
            ]
          },
          "metadata": {
            "tags": []
          },
          "execution_count": 17
        }
      ]
    },
    {
      "cell_type": "markdown",
      "metadata": {
        "id": "rJMPr5-TktVR"
      },
      "source": [
        "Variance explained = variance of PC divided by sum of all variances across all input variables. Note that with 0 indexing, PC 0 is actually the first PC computed. it explains about 45% of variance in the data. PC 1 explains about 20%,a and PC 2 10%, for a total of about 72% of variance in the data. For the sake of simplicity and time, we'll just look at PCs 0 through 2.\n",
        "\n",
        "We can look at which features are important for each PC."
      ]
    },
    {
      "cell_type": "code",
      "metadata": {
        "id": "vmPebSqdktVS",
        "outputId": "e41fef8b-c404-440d-b55d-7b87a523b00b"
      },
      "source": [
        "# get loadings for PC, i.e. association of input features with each PC. Do for PC0, PC1, PC2\n",
        "loadings_mat = pca_obj.components_[0:3, :]\n",
        "# 3 components x 30 features\n",
        "loadings_mat.shape\n",
        "\n",
        "loadings_df = pd.DataFrame(data = np.transpose(loadings_mat), \n",
        "                           index = data.feature_names, \n",
        "                           columns = np.arange(0,3).astype('str'))\n",
        "loadings_df.shape\n",
        "seaborn.heatmap(loadings_df, xticklabels = True, yticklabels = True)"
      ],
      "execution_count": null,
      "outputs": [
        {
          "output_type": "execute_result",
          "data": {
            "text/plain": [
              "<matplotlib.axes._subplots.AxesSubplot at 0x7f79c8280400>"
            ]
          },
          "metadata": {
            "tags": []
          },
          "execution_count": 18
        },
        {
          "output_type": "display_data",
          "data": {
            "image/png": "[encoded data removed]",
            "text/plain": [
              "<Figure size 432x288 with 2 Axes>"
            ]
          },
          "metadata": {
            "tags": [],
            "needs_background": "light"
          }
        }
      ]
    },
    {
      "cell_type": "code",
      "metadata": {
        "id": "7AJ0Em6PktVX",
        "outputId": "08bc50bb-c783-455a-bfbf-c81a6a362651"
      },
      "source": [
        "# features ranked by association with PC 0\n",
        "loadings_df.sort_values(by = '0', ascending = False).iloc[:, np.arange(0,1)]"
      ],
      "execution_count": null,
      "outputs": [
        {
          "output_type": "execute_result",
          "data": {
            "text/html": [
              "<div>\n",
              "<style scoped>\n",
              "    .dataframe tbody tr th:only-of-type {\n",
              "        vertical-align: middle;\n",
              "    }\n",
              "\n",
              "    .dataframe tbody tr th {\n",
              "        vertical-align: top;\n",
              "    }\n",
              "\n",
              "    .dataframe thead th {\n",
              "        text-align: right;\n",
              "    }\n",
              "</style>\n",
              "<table border=\"1\" class=\"dataframe\">\n",
              "  <thead>\n",
              "    <tr style=\"text-align: right;\">\n",
              "      <th></th>\n",
              "      <th>0</th>\n",
              "    </tr>\n",
              "  </thead>\n",
              "  <tbody>\n",
              "    <tr>\n",
              "      <th>mean concave points</th>\n",
              "      <td>0.260854</td>\n",
              "    </tr>\n",
              "    <tr>\n",
              "      <th>mean concavity</th>\n",
              "      <td>0.258400</td>\n",
              "    </tr>\n",
              "    <tr>\n",
              "      <th>worst concave points</th>\n",
              "      <td>0.250886</td>\n",
              "    </tr>\n",
              "    <tr>\n",
              "      <th>mean compactness</th>\n",
              "      <td>0.239285</td>\n",
              "    </tr>\n",
              "    <tr>\n",
              "      <th>worst perimeter</th>\n",
              "      <td>0.236640</td>\n",
              "    </tr>\n",
              "    <tr>\n",
              "      <th>worst concavity</th>\n",
              "      <td>0.228768</td>\n",
              "    </tr>\n",
              "    <tr>\n",
              "      <th>worst radius</th>\n",
              "      <td>0.227997</td>\n",
              "    </tr>\n",
              "    <tr>\n",
              "      <th>mean perimeter</th>\n",
              "      <td>0.227537</td>\n",
              "    </tr>\n",
              "    <tr>\n",
              "      <th>worst area</th>\n",
              "      <td>0.224871</td>\n",
              "    </tr>\n",
              "    <tr>\n",
              "      <th>mean area</th>\n",
              "      <td>0.220995</td>\n",
              "    </tr>\n",
              "    <tr>\n",
              "      <th>mean radius</th>\n",
              "      <td>0.218902</td>\n",
              "    </tr>\n",
              "    <tr>\n",
              "      <th>perimeter error</th>\n",
              "      <td>0.211326</td>\n",
              "    </tr>\n",
              "    <tr>\n",
              "      <th>worst compactness</th>\n",
              "      <td>0.210096</td>\n",
              "    </tr>\n",
              "    <tr>\n",
              "      <th>radius error</th>\n",
              "      <td>0.205979</td>\n",
              "    </tr>\n",
              "    <tr>\n",
              "      <th>area error</th>\n",
              "      <td>0.202870</td>\n",
              "    </tr>\n",
              "    <tr>\n",
              "      <th>concave points error</th>\n",
              "      <td>0.183417</td>\n",
              "    </tr>\n",
              "    <tr>\n",
              "      <th>compactness error</th>\n",
              "      <td>0.170393</td>\n",
              "    </tr>\n",
              "    <tr>\n",
              "      <th>concavity error</th>\n",
              "      <td>0.153590</td>\n",
              "    </tr>\n",
              "    <tr>\n",
              "      <th>mean smoothness</th>\n",
              "      <td>0.142590</td>\n",
              "    </tr>\n",
              "    <tr>\n",
              "      <th>mean symmetry</th>\n",
              "      <td>0.138167</td>\n",
              "    </tr>\n",
              "    <tr>\n",
              "      <th>worst fractal dimension</th>\n",
              "      <td>0.131784</td>\n",
              "    </tr>\n",
              "    <tr>\n",
              "      <th>worst smoothness</th>\n",
              "      <td>0.127953</td>\n",
              "    </tr>\n",
              "    <tr>\n",
              "      <th>worst symmetry</th>\n",
              "      <td>0.122905</td>\n",
              "    </tr>\n",
              "    <tr>\n",
              "      <th>worst texture</th>\n",
              "      <td>0.104469</td>\n",
              "    </tr>\n",
              "    <tr>\n",
              "      <th>mean texture</th>\n",
              "      <td>0.103725</td>\n",
              "    </tr>\n",
              "    <tr>\n",
              "      <th>fractal dimension error</th>\n",
              "      <td>0.102568</td>\n",
              "    </tr>\n",
              "    <tr>\n",
              "      <th>mean fractal dimension</th>\n",
              "      <td>0.064363</td>\n",
              "    </tr>\n",
              "    <tr>\n",
              "      <th>symmetry error</th>\n",
              "      <td>0.042498</td>\n",
              "    </tr>\n",
              "    <tr>\n",
              "      <th>texture error</th>\n",
              "      <td>0.017428</td>\n",
              "    </tr>\n",
              "    <tr>\n",
              "      <th>smoothness error</th>\n",
              "      <td>0.014531</td>\n",
              "    </tr>\n",
              "  </tbody>\n",
              "</table>\n",
              "</div>"
            ],
            "text/plain": [
              "                                0\n",
              "mean concave points      0.260854\n",
              "mean concavity           0.258400\n",
              "worst concave points     0.250886\n",
              "mean compactness         0.239285\n",
              "worst perimeter          0.236640\n",
              "worst concavity          0.228768\n",
              "worst radius             0.227997\n",
              "mean perimeter           0.227537\n",
              "worst area               0.224871\n",
              "mean area                0.220995\n",
              "mean radius              0.218902\n",
              "perimeter error          0.211326\n",
              "worst compactness        0.210096\n",
              "radius error             0.205979\n",
              "area error               0.202870\n",
              "concave points error     0.183417\n",
              "compactness error        0.170393\n",
              "concavity error          0.153590\n",
              "mean smoothness          0.142590\n",
              "mean symmetry            0.138167\n",
              "worst fractal dimension  0.131784\n",
              "worst smoothness         0.127953\n",
              "worst symmetry           0.122905\n",
              "worst texture            0.104469\n",
              "mean texture             0.103725\n",
              "fractal dimension error  0.102568\n",
              "mean fractal dimension   0.064363\n",
              "symmetry error           0.042498\n",
              "texture error            0.017428\n",
              "smoothness error         0.014531"
            ]
          },
          "metadata": {
            "tags": []
          },
          "execution_count": 19
        }
      ]
    },
    {
      "cell_type": "code",
      "metadata": {
        "id": "NaWLW4ujktVa",
        "outputId": "f34c3667-3772-44fc-fcbc-54c4ee2adf6c"
      },
      "source": [
        "# features ranked by association with PC 1\n",
        "loadings_df.sort_values(by = '1', ascending = False).iloc[:, np.arange(1,2)]"
      ],
      "execution_count": null,
      "outputs": [
        {
          "output_type": "execute_result",
          "data": {
            "text/html": [
              "<div>\n",
              "<style scoped>\n",
              "    .dataframe tbody tr th:only-of-type {\n",
              "        vertical-align: middle;\n",
              "    }\n",
              "\n",
              "    .dataframe tbody tr th {\n",
              "        vertical-align: top;\n",
              "    }\n",
              "\n",
              "    .dataframe thead th {\n",
              "        text-align: right;\n",
              "    }\n",
              "</style>\n",
              "<table border=\"1\" class=\"dataframe\">\n",
              "  <thead>\n",
              "    <tr style=\"text-align: right;\">\n",
              "      <th></th>\n",
              "      <th>1</th>\n",
              "    </tr>\n",
              "  </thead>\n",
              "  <tbody>\n",
              "    <tr>\n",
              "      <th>mean fractal dimension</th>\n",
              "      <td>0.366575</td>\n",
              "    </tr>\n",
              "    <tr>\n",
              "      <th>fractal dimension error</th>\n",
              "      <td>0.280092</td>\n",
              "    </tr>\n",
              "    <tr>\n",
              "      <th>worst fractal dimension</th>\n",
              "      <td>0.275339</td>\n",
              "    </tr>\n",
              "    <tr>\n",
              "      <th>compactness error</th>\n",
              "      <td>0.232716</td>\n",
              "    </tr>\n",
              "    <tr>\n",
              "      <th>smoothness error</th>\n",
              "      <td>0.204430</td>\n",
              "    </tr>\n",
              "    <tr>\n",
              "      <th>concavity error</th>\n",
              "      <td>0.197207</td>\n",
              "    </tr>\n",
              "    <tr>\n",
              "      <th>mean symmetry</th>\n",
              "      <td>0.190349</td>\n",
              "    </tr>\n",
              "    <tr>\n",
              "      <th>mean smoothness</th>\n",
              "      <td>0.186113</td>\n",
              "    </tr>\n",
              "    <tr>\n",
              "      <th>symmetry error</th>\n",
              "      <td>0.183848</td>\n",
              "    </tr>\n",
              "    <tr>\n",
              "      <th>worst smoothness</th>\n",
              "      <td>0.172304</td>\n",
              "    </tr>\n",
              "    <tr>\n",
              "      <th>mean compactness</th>\n",
              "      <td>0.151892</td>\n",
              "    </tr>\n",
              "    <tr>\n",
              "      <th>worst compactness</th>\n",
              "      <td>0.143593</td>\n",
              "    </tr>\n",
              "    <tr>\n",
              "      <th>worst symmetry</th>\n",
              "      <td>0.141883</td>\n",
              "    </tr>\n",
              "    <tr>\n",
              "      <th>concave points error</th>\n",
              "      <td>0.130322</td>\n",
              "    </tr>\n",
              "    <tr>\n",
              "      <th>worst concavity</th>\n",
              "      <td>0.097964</td>\n",
              "    </tr>\n",
              "    <tr>\n",
              "      <th>texture error</th>\n",
              "      <td>0.089980</td>\n",
              "    </tr>\n",
              "    <tr>\n",
              "      <th>mean concavity</th>\n",
              "      <td>0.060165</td>\n",
              "    </tr>\n",
              "    <tr>\n",
              "      <th>worst concave points</th>\n",
              "      <td>-0.008257</td>\n",
              "    </tr>\n",
              "    <tr>\n",
              "      <th>mean concave points</th>\n",
              "      <td>-0.034768</td>\n",
              "    </tr>\n",
              "    <tr>\n",
              "      <th>worst texture</th>\n",
              "      <td>-0.045467</td>\n",
              "    </tr>\n",
              "    <tr>\n",
              "      <th>mean texture</th>\n",
              "      <td>-0.059706</td>\n",
              "    </tr>\n",
              "    <tr>\n",
              "      <th>perimeter error</th>\n",
              "      <td>-0.089457</td>\n",
              "    </tr>\n",
              "    <tr>\n",
              "      <th>radius error</th>\n",
              "      <td>-0.105552</td>\n",
              "    </tr>\n",
              "    <tr>\n",
              "      <th>area error</th>\n",
              "      <td>-0.152293</td>\n",
              "    </tr>\n",
              "    <tr>\n",
              "      <th>worst perimeter</th>\n",
              "      <td>-0.199878</td>\n",
              "    </tr>\n",
              "    <tr>\n",
              "      <th>mean perimeter</th>\n",
              "      <td>-0.215181</td>\n",
              "    </tr>\n",
              "    <tr>\n",
              "      <th>worst area</th>\n",
              "      <td>-0.219352</td>\n",
              "    </tr>\n",
              "    <tr>\n",
              "      <th>worst radius</th>\n",
              "      <td>-0.219866</td>\n",
              "    </tr>\n",
              "    <tr>\n",
              "      <th>mean area</th>\n",
              "      <td>-0.231077</td>\n",
              "    </tr>\n",
              "    <tr>\n",
              "      <th>mean radius</th>\n",
              "      <td>-0.233857</td>\n",
              "    </tr>\n",
              "  </tbody>\n",
              "</table>\n",
              "</div>"
            ],
            "text/plain": [
              "                                1\n",
              "mean fractal dimension   0.366575\n",
              "fractal dimension error  0.280092\n",
              "worst fractal dimension  0.275339\n",
              "compactness error        0.232716\n",
              "smoothness error         0.204430\n",
              "concavity error          0.197207\n",
              "mean symmetry            0.190349\n",
              "mean smoothness          0.186113\n",
              "symmetry error           0.183848\n",
              "worst smoothness         0.172304\n",
              "mean compactness         0.151892\n",
              "worst compactness        0.143593\n",
              "worst symmetry           0.141883\n",
              "concave points error     0.130322\n",
              "worst concavity          0.097964\n",
              "texture error            0.089980\n",
              "mean concavity           0.060165\n",
              "worst concave points    -0.008257\n",
              "mean concave points     -0.034768\n",
              "worst texture           -0.045467\n",
              "mean texture            -0.059706\n",
              "perimeter error         -0.089457\n",
              "radius error            -0.105552\n",
              "area error              -0.152293\n",
              "worst perimeter         -0.199878\n",
              "mean perimeter          -0.215181\n",
              "worst area              -0.219352\n",
              "worst radius            -0.219866\n",
              "mean area               -0.231077\n",
              "mean radius             -0.233857"
            ]
          },
          "metadata": {
            "tags": []
          },
          "execution_count": 20
        }
      ]
    },
    {
      "cell_type": "code",
      "metadata": {
        "id": "yeA3Ph7xktVg",
        "outputId": "8037ae5b-ee13-4e30-b3e2-dd406d8dd923"
      },
      "source": [
        "# features ranked by association with PC 2\n",
        "loadings_df.sort_values(by = '2', ascending = False).iloc[:, np.arange(2,3)]"
      ],
      "execution_count": null,
      "outputs": [
        {
          "output_type": "execute_result",
          "data": {
            "text/html": [
              "<div>\n",
              "<style scoped>\n",
              "    .dataframe tbody tr th:only-of-type {\n",
              "        vertical-align: middle;\n",
              "    }\n",
              "\n",
              "    .dataframe tbody tr th {\n",
              "        vertical-align: top;\n",
              "    }\n",
              "\n",
              "    .dataframe thead th {\n",
              "        text-align: right;\n",
              "    }\n",
              "</style>\n",
              "<table border=\"1\" class=\"dataframe\">\n",
              "  <thead>\n",
              "    <tr style=\"text-align: right;\">\n",
              "      <th></th>\n",
              "      <th>2</th>\n",
              "    </tr>\n",
              "  </thead>\n",
              "  <tbody>\n",
              "    <tr>\n",
              "      <th>texture error</th>\n",
              "      <td>0.374634</td>\n",
              "    </tr>\n",
              "    <tr>\n",
              "      <th>smoothness error</th>\n",
              "      <td>0.308839</td>\n",
              "    </tr>\n",
              "    <tr>\n",
              "      <th>symmetry error</th>\n",
              "      <td>0.288584</td>\n",
              "    </tr>\n",
              "    <tr>\n",
              "      <th>radius error</th>\n",
              "      <td>0.268481</td>\n",
              "    </tr>\n",
              "    <tr>\n",
              "      <th>perimeter error</th>\n",
              "      <td>0.266645</td>\n",
              "    </tr>\n",
              "    <tr>\n",
              "      <th>concave points error</th>\n",
              "      <td>0.224658</td>\n",
              "    </tr>\n",
              "    <tr>\n",
              "      <th>area error</th>\n",
              "      <td>0.216007</td>\n",
              "    </tr>\n",
              "    <tr>\n",
              "      <th>fractal dimension error</th>\n",
              "      <td>0.211504</td>\n",
              "    </tr>\n",
              "    <tr>\n",
              "      <th>concavity error</th>\n",
              "      <td>0.176464</td>\n",
              "    </tr>\n",
              "    <tr>\n",
              "      <th>compactness error</th>\n",
              "      <td>0.154780</td>\n",
              "    </tr>\n",
              "    <tr>\n",
              "      <th>mean texture</th>\n",
              "      <td>0.064550</td>\n",
              "    </tr>\n",
              "    <tr>\n",
              "      <th>mean area</th>\n",
              "      <td>0.028700</td>\n",
              "    </tr>\n",
              "    <tr>\n",
              "      <th>mean concavity</th>\n",
              "      <td>0.002734</td>\n",
              "    </tr>\n",
              "    <tr>\n",
              "      <th>mean radius</th>\n",
              "      <td>-0.008531</td>\n",
              "    </tr>\n",
              "    <tr>\n",
              "      <th>mean perimeter</th>\n",
              "      <td>-0.009314</td>\n",
              "    </tr>\n",
              "    <tr>\n",
              "      <th>worst area</th>\n",
              "      <td>-0.011902</td>\n",
              "    </tr>\n",
              "    <tr>\n",
              "      <th>mean fractal dimension</th>\n",
              "      <td>-0.022574</td>\n",
              "    </tr>\n",
              "    <tr>\n",
              "      <th>mean concave points</th>\n",
              "      <td>-0.025564</td>\n",
              "    </tr>\n",
              "    <tr>\n",
              "      <th>mean symmetry</th>\n",
              "      <td>-0.040240</td>\n",
              "    </tr>\n",
              "    <tr>\n",
              "      <th>worst texture</th>\n",
              "      <td>-0.042298</td>\n",
              "    </tr>\n",
              "    <tr>\n",
              "      <th>worst radius</th>\n",
              "      <td>-0.047507</td>\n",
              "    </tr>\n",
              "    <tr>\n",
              "      <th>worst perimeter</th>\n",
              "      <td>-0.048547</td>\n",
              "    </tr>\n",
              "    <tr>\n",
              "      <th>mean compactness</th>\n",
              "      <td>-0.074092</td>\n",
              "    </tr>\n",
              "    <tr>\n",
              "      <th>mean smoothness</th>\n",
              "      <td>-0.104292</td>\n",
              "    </tr>\n",
              "    <tr>\n",
              "      <th>worst concave points</th>\n",
              "      <td>-0.170344</td>\n",
              "    </tr>\n",
              "    <tr>\n",
              "      <th>worst concavity</th>\n",
              "      <td>-0.173057</td>\n",
              "    </tr>\n",
              "    <tr>\n",
              "      <th>worst fractal dimension</th>\n",
              "      <td>-0.232791</td>\n",
              "    </tr>\n",
              "    <tr>\n",
              "      <th>worst compactness</th>\n",
              "      <td>-0.236076</td>\n",
              "    </tr>\n",
              "    <tr>\n",
              "      <th>worst smoothness</th>\n",
              "      <td>-0.259798</td>\n",
              "    </tr>\n",
              "    <tr>\n",
              "      <th>worst symmetry</th>\n",
              "      <td>-0.271313</td>\n",
              "    </tr>\n",
              "  </tbody>\n",
              "</table>\n",
              "</div>"
            ],
            "text/plain": [
              "                                2\n",
              "texture error            0.374634\n",
              "smoothness error         0.308839\n",
              "symmetry error           0.288584\n",
              "radius error             0.268481\n",
              "perimeter error          0.266645\n",
              "concave points error     0.224658\n",
              "area error               0.216007\n",
              "fractal dimension error  0.211504\n",
              "concavity error          0.176464\n",
              "compactness error        0.154780\n",
              "mean texture             0.064550\n",
              "mean area                0.028700\n",
              "mean concavity           0.002734\n",
              "mean radius             -0.008531\n",
              "mean perimeter          -0.009314\n",
              "worst area              -0.011902\n",
              "mean fractal dimension  -0.022574\n",
              "mean concave points     -0.025564\n",
              "mean symmetry           -0.040240\n",
              "worst texture           -0.042298\n",
              "worst radius            -0.047507\n",
              "worst perimeter         -0.048547\n",
              "mean compactness        -0.074092\n",
              "mean smoothness         -0.104292\n",
              "worst concave points    -0.170344\n",
              "worst concavity         -0.173057\n",
              "worst fractal dimension -0.232791\n",
              "worst compactness       -0.236076\n",
              "worst smoothness        -0.259798\n",
              "worst symmetry          -0.271313"
            ]
          },
          "metadata": {
            "tags": []
          },
          "execution_count": 21
        }
      ]
    },
    {
      "cell_type": "code",
      "metadata": {
        "id": "-1FxfkB-ktVj",
        "outputId": "013925d3-2006-4e23-a709-25c03a135550"
      },
      "source": [
        "# We can plot features and visualize both the distribution fo data and association of features with data\n",
        "\n",
        "# PCA coordinates derived from scaled data\n",
        "pca_coords = pca_obj.fit_transform(data_scaled)[:, 0:3]\n",
        "pca_coords_df = pd.DataFrame(data = pca_coords, columns = np.arange(0,3).astype('str'))\n",
        "# combine coordinates with other data\n",
        "combined_df = pd.concat([breast_cancer_df, pca_coords_df], axis = 1)\n",
        "lab_vect = np.repeat('malignant', combined_df.shape[0])\n",
        "lab_vect[data['target'] == 1] = 'benign'\n",
        "combined_df['label'] = lab_vect\n",
        "# we see that PCA coords + case label are appended to end\n",
        "combined_df.iloc[:, 20:34].head(20)\n"
      ],
      "execution_count": null,
      "outputs": [
        {
          "output_type": "execute_result",
          "data": {
            "text/html": [
              "<div>\n",
              "<style scoped>\n",
              "    .dataframe tbody tr th:only-of-type {\n",
              "        vertical-align: middle;\n",
              "    }\n",
              "\n",
              "    .dataframe tbody tr th {\n",
              "        vertical-align: top;\n",
              "    }\n",
              "\n",
              "    .dataframe thead th {\n",
              "        text-align: right;\n",
              "    }\n",
              "</style>\n",
              "<table border=\"1\" class=\"dataframe\">\n",
              "  <thead>\n",
              "    <tr style=\"text-align: right;\">\n",
              "      <th></th>\n",
              "      <th>worst radius</th>\n",
              "      <th>worst texture</th>\n",
              "      <th>worst perimeter</th>\n",
              "      <th>worst area</th>\n",
              "      <th>worst smoothness</th>\n",
              "      <th>worst compactness</th>\n",
              "      <th>worst concavity</th>\n",
              "      <th>worst concave points</th>\n",
              "      <th>worst symmetry</th>\n",
              "      <th>worst fractal dimension</th>\n",
              "      <th>0</th>\n",
              "      <th>1</th>\n",
              "      <th>2</th>\n",
              "      <th>label</th>\n",
              "    </tr>\n",
              "  </thead>\n",
              "  <tbody>\n",
              "    <tr>\n",
              "      <th>0</th>\n",
              "      <td>25.38</td>\n",
              "      <td>17.33</td>\n",
              "      <td>184.60</td>\n",
              "      <td>2019.0</td>\n",
              "      <td>0.1622</td>\n",
              "      <td>0.6656</td>\n",
              "      <td>0.7119</td>\n",
              "      <td>0.26540</td>\n",
              "      <td>0.4601</td>\n",
              "      <td>0.11890</td>\n",
              "      <td>9.192837</td>\n",
              "      <td>1.948583</td>\n",
              "      <td>-1.123166</td>\n",
              "      <td>malignant</td>\n",
              "    </tr>\n",
              "    <tr>\n",
              "      <th>1</th>\n",
              "      <td>24.99</td>\n",
              "      <td>23.41</td>\n",
              "      <td>158.80</td>\n",
              "      <td>1956.0</td>\n",
              "      <td>0.1238</td>\n",
              "      <td>0.1866</td>\n",
              "      <td>0.2416</td>\n",
              "      <td>0.18600</td>\n",
              "      <td>0.2750</td>\n",
              "      <td>0.08902</td>\n",
              "      <td>2.387802</td>\n",
              "      <td>-3.768172</td>\n",
              "      <td>-0.529293</td>\n",
              "      <td>malignant</td>\n",
              "    </tr>\n",
              "    <tr>\n",
              "      <th>2</th>\n",
              "      <td>23.57</td>\n",
              "      <td>25.53</td>\n",
              "      <td>152.50</td>\n",
              "      <td>1709.0</td>\n",
              "      <td>0.1444</td>\n",
              "      <td>0.4245</td>\n",
              "      <td>0.4504</td>\n",
              "      <td>0.24300</td>\n",
              "      <td>0.3613</td>\n",
              "      <td>0.08758</td>\n",
              "      <td>5.733896</td>\n",
              "      <td>-1.075174</td>\n",
              "      <td>-0.551748</td>\n",
              "      <td>malignant</td>\n",
              "    </tr>\n",
              "    <tr>\n",
              "      <th>3</th>\n",
              "      <td>14.91</td>\n",
              "      <td>26.50</td>\n",
              "      <td>98.87</td>\n",
              "      <td>567.7</td>\n",
              "      <td>0.2098</td>\n",
              "      <td>0.8663</td>\n",
              "      <td>0.6869</td>\n",
              "      <td>0.25750</td>\n",
              "      <td>0.6638</td>\n",
              "      <td>0.17300</td>\n",
              "      <td>7.122953</td>\n",
              "      <td>10.275589</td>\n",
              "      <td>-3.232790</td>\n",
              "      <td>malignant</td>\n",
              "    </tr>\n",
              "    <tr>\n",
              "      <th>4</th>\n",
              "      <td>22.54</td>\n",
              "      <td>16.67</td>\n",
              "      <td>152.20</td>\n",
              "      <td>1575.0</td>\n",
              "      <td>0.1374</td>\n",
              "      <td>0.2050</td>\n",
              "      <td>0.4000</td>\n",
              "      <td>0.16250</td>\n",
              "      <td>0.2364</td>\n",
              "      <td>0.07678</td>\n",
              "      <td>3.935302</td>\n",
              "      <td>-1.948072</td>\n",
              "      <td>1.389767</td>\n",
              "      <td>malignant</td>\n",
              "    </tr>\n",
              "    <tr>\n",
              "      <th>5</th>\n",
              "      <td>15.47</td>\n",
              "      <td>23.75</td>\n",
              "      <td>103.40</td>\n",
              "      <td>741.6</td>\n",
              "      <td>0.1791</td>\n",
              "      <td>0.5249</td>\n",
              "      <td>0.5355</td>\n",
              "      <td>0.17410</td>\n",
              "      <td>0.3985</td>\n",
              "      <td>0.12440</td>\n",
              "      <td>2.380247</td>\n",
              "      <td>3.949929</td>\n",
              "      <td>-2.934877</td>\n",
              "      <td>malignant</td>\n",
              "    </tr>\n",
              "    <tr>\n",
              "      <th>6</th>\n",
              "      <td>22.88</td>\n",
              "      <td>27.66</td>\n",
              "      <td>153.20</td>\n",
              "      <td>1606.0</td>\n",
              "      <td>0.1442</td>\n",
              "      <td>0.2576</td>\n",
              "      <td>0.3784</td>\n",
              "      <td>0.19320</td>\n",
              "      <td>0.3063</td>\n",
              "      <td>0.08368</td>\n",
              "      <td>2.238883</td>\n",
              "      <td>-2.690031</td>\n",
              "      <td>-1.639913</td>\n",
              "      <td>malignant</td>\n",
              "    </tr>\n",
              "    <tr>\n",
              "      <th>7</th>\n",
              "      <td>17.06</td>\n",
              "      <td>28.14</td>\n",
              "      <td>110.60</td>\n",
              "      <td>897.0</td>\n",
              "      <td>0.1654</td>\n",
              "      <td>0.3682</td>\n",
              "      <td>0.2678</td>\n",
              "      <td>0.15560</td>\n",
              "      <td>0.3196</td>\n",
              "      <td>0.11510</td>\n",
              "      <td>2.143299</td>\n",
              "      <td>2.340244</td>\n",
              "      <td>-0.871947</td>\n",
              "      <td>malignant</td>\n",
              "    </tr>\n",
              "    <tr>\n",
              "      <th>8</th>\n",
              "      <td>15.49</td>\n",
              "      <td>30.73</td>\n",
              "      <td>106.20</td>\n",
              "      <td>739.3</td>\n",
              "      <td>0.1703</td>\n",
              "      <td>0.5401</td>\n",
              "      <td>0.5390</td>\n",
              "      <td>0.20600</td>\n",
              "      <td>0.4378</td>\n",
              "      <td>0.10720</td>\n",
              "      <td>3.174924</td>\n",
              "      <td>3.391813</td>\n",
              "      <td>-3.119986</td>\n",
              "      <td>malignant</td>\n",
              "    </tr>\n",
              "    <tr>\n",
              "      <th>9</th>\n",
              "      <td>15.09</td>\n",
              "      <td>40.68</td>\n",
              "      <td>97.65</td>\n",
              "      <td>711.4</td>\n",
              "      <td>0.1853</td>\n",
              "      <td>1.0580</td>\n",
              "      <td>1.1050</td>\n",
              "      <td>0.22100</td>\n",
              "      <td>0.4366</td>\n",
              "      <td>0.20750</td>\n",
              "      <td>6.351747</td>\n",
              "      <td>7.727174</td>\n",
              "      <td>-4.341916</td>\n",
              "      <td>malignant</td>\n",
              "    </tr>\n",
              "    <tr>\n",
              "      <th>10</th>\n",
              "      <td>19.19</td>\n",
              "      <td>33.88</td>\n",
              "      <td>123.80</td>\n",
              "      <td>1150.0</td>\n",
              "      <td>0.1181</td>\n",
              "      <td>0.1551</td>\n",
              "      <td>0.1459</td>\n",
              "      <td>0.09975</td>\n",
              "      <td>0.2948</td>\n",
              "      <td>0.08452</td>\n",
              "      <td>-0.810414</td>\n",
              "      <td>-2.659275</td>\n",
              "      <td>-0.488830</td>\n",
              "      <td>malignant</td>\n",
              "    </tr>\n",
              "    <tr>\n",
              "      <th>11</th>\n",
              "      <td>20.42</td>\n",
              "      <td>27.28</td>\n",
              "      <td>136.50</td>\n",
              "      <td>1299.0</td>\n",
              "      <td>0.1396</td>\n",
              "      <td>0.5609</td>\n",
              "      <td>0.3965</td>\n",
              "      <td>0.18100</td>\n",
              "      <td>0.3792</td>\n",
              "      <td>0.10480</td>\n",
              "      <td>2.651100</td>\n",
              "      <td>0.066568</td>\n",
              "      <td>-1.526455</td>\n",
              "      <td>malignant</td>\n",
              "    </tr>\n",
              "    <tr>\n",
              "      <th>12</th>\n",
              "      <td>20.96</td>\n",
              "      <td>29.94</td>\n",
              "      <td>151.70</td>\n",
              "      <td>1332.0</td>\n",
              "      <td>0.1037</td>\n",
              "      <td>0.3903</td>\n",
              "      <td>0.3639</td>\n",
              "      <td>0.17670</td>\n",
              "      <td>0.3176</td>\n",
              "      <td>0.10230</td>\n",
              "      <td>8.185034</td>\n",
              "      <td>2.700976</td>\n",
              "      <td>5.730231</td>\n",
              "      <td>malignant</td>\n",
              "    </tr>\n",
              "    <tr>\n",
              "      <th>13</th>\n",
              "      <td>16.84</td>\n",
              "      <td>27.66</td>\n",
              "      <td>112.00</td>\n",
              "      <td>876.5</td>\n",
              "      <td>0.1131</td>\n",
              "      <td>0.1924</td>\n",
              "      <td>0.2322</td>\n",
              "      <td>0.11190</td>\n",
              "      <td>0.2809</td>\n",
              "      <td>0.06287</td>\n",
              "      <td>0.342126</td>\n",
              "      <td>-0.968279</td>\n",
              "      <td>1.717172</td>\n",
              "      <td>malignant</td>\n",
              "    </tr>\n",
              "    <tr>\n",
              "      <th>14</th>\n",
              "      <td>15.03</td>\n",
              "      <td>32.01</td>\n",
              "      <td>108.80</td>\n",
              "      <td>697.7</td>\n",
              "      <td>0.1651</td>\n",
              "      <td>0.7725</td>\n",
              "      <td>0.6943</td>\n",
              "      <td>0.22080</td>\n",
              "      <td>0.3596</td>\n",
              "      <td>0.14310</td>\n",
              "      <td>4.342379</td>\n",
              "      <td>4.861083</td>\n",
              "      <td>-2.816116</td>\n",
              "      <td>malignant</td>\n",
              "    </tr>\n",
              "    <tr>\n",
              "      <th>15</th>\n",
              "      <td>17.46</td>\n",
              "      <td>37.13</td>\n",
              "      <td>124.10</td>\n",
              "      <td>943.2</td>\n",
              "      <td>0.1678</td>\n",
              "      <td>0.6577</td>\n",
              "      <td>0.7026</td>\n",
              "      <td>0.17120</td>\n",
              "      <td>0.4218</td>\n",
              "      <td>0.13410</td>\n",
              "      <td>4.075656</td>\n",
              "      <td>2.977061</td>\n",
              "      <td>-3.125274</td>\n",
              "      <td>malignant</td>\n",
              "    </tr>\n",
              "    <tr>\n",
              "      <th>16</th>\n",
              "      <td>19.07</td>\n",
              "      <td>30.88</td>\n",
              "      <td>123.40</td>\n",
              "      <td>1138.0</td>\n",
              "      <td>0.1464</td>\n",
              "      <td>0.1871</td>\n",
              "      <td>0.2914</td>\n",
              "      <td>0.16090</td>\n",
              "      <td>0.3029</td>\n",
              "      <td>0.08216</td>\n",
              "      <td>0.230055</td>\n",
              "      <td>-1.564758</td>\n",
              "      <td>-0.802519</td>\n",
              "      <td>malignant</td>\n",
              "    </tr>\n",
              "    <tr>\n",
              "      <th>17</th>\n",
              "      <td>20.96</td>\n",
              "      <td>31.48</td>\n",
              "      <td>136.80</td>\n",
              "      <td>1315.0</td>\n",
              "      <td>0.1789</td>\n",
              "      <td>0.4233</td>\n",
              "      <td>0.4784</td>\n",
              "      <td>0.20730</td>\n",
              "      <td>0.3706</td>\n",
              "      <td>0.11420</td>\n",
              "      <td>4.418011</td>\n",
              "      <td>1.418670</td>\n",
              "      <td>-2.270319</td>\n",
              "      <td>malignant</td>\n",
              "    </tr>\n",
              "    <tr>\n",
              "      <th>18</th>\n",
              "      <td>27.32</td>\n",
              "      <td>30.88</td>\n",
              "      <td>186.80</td>\n",
              "      <td>2398.0</td>\n",
              "      <td>0.1512</td>\n",
              "      <td>0.3150</td>\n",
              "      <td>0.5372</td>\n",
              "      <td>0.23880</td>\n",
              "      <td>0.2768</td>\n",
              "      <td>0.07615</td>\n",
              "      <td>4.948704</td>\n",
              "      <td>-4.114334</td>\n",
              "      <td>-0.314749</td>\n",
              "      <td>malignant</td>\n",
              "    </tr>\n",
              "    <tr>\n",
              "      <th>19</th>\n",
              "      <td>15.11</td>\n",
              "      <td>19.26</td>\n",
              "      <td>99.70</td>\n",
              "      <td>711.2</td>\n",
              "      <td>0.1440</td>\n",
              "      <td>0.1773</td>\n",
              "      <td>0.2390</td>\n",
              "      <td>0.12880</td>\n",
              "      <td>0.2977</td>\n",
              "      <td>0.07259</td>\n",
              "      <td>-1.237063</td>\n",
              "      <td>-0.188215</td>\n",
              "      <td>-0.593283</td>\n",
              "      <td>benign</td>\n",
              "    </tr>\n",
              "  </tbody>\n",
              "</table>\n",
              "</div>"
            ],
            "text/plain": [
              "    worst radius  worst texture  worst perimeter  worst area  \\\n",
              "0          25.38          17.33           184.60      2019.0   \n",
              "1          24.99          23.41           158.80      1956.0   \n",
              "2          23.57          25.53           152.50      1709.0   \n",
              "3          14.91          26.50            98.87       567.7   \n",
              "4          22.54          16.67           152.20      1575.0   \n",
              "5          15.47          23.75           103.40       741.6   \n",
              "6          22.88          27.66           153.20      1606.0   \n",
              "7          17.06          28.14           110.60       897.0   \n",
              "8          15.49          30.73           106.20       739.3   \n",
              "9          15.09          40.68            97.65       711.4   \n",
              "10         19.19          33.88           123.80      1150.0   \n",
              "11         20.42          27.28           136.50      1299.0   \n",
              "12         20.96          29.94           151.70      1332.0   \n",
              "13         16.84          27.66           112.00       876.5   \n",
              "14         15.03          32.01           108.80       697.7   \n",
              "15         17.46          37.13           124.10       943.2   \n",
              "16         19.07          30.88           123.40      1138.0   \n",
              "17         20.96          31.48           136.80      1315.0   \n",
              "18         27.32          30.88           186.80      2398.0   \n",
              "19         15.11          19.26            99.70       711.2   \n",
              "\n",
              "    worst smoothness  worst compactness  worst concavity  \\\n",
              "0             0.1622             0.6656           0.7119   \n",
              "1             0.1238             0.1866           0.2416   \n",
              "2             0.1444             0.4245           0.4504   \n",
              "3             0.2098             0.8663           0.6869   \n",
              "4             0.1374             0.2050           0.4000   \n",
              "5             0.1791             0.5249           0.5355   \n",
              "6             0.1442             0.2576           0.3784   \n",
              "7             0.1654             0.3682           0.2678   \n",
              "8             0.1703             0.5401           0.5390   \n",
              "9             0.1853             1.0580           1.1050   \n",
              "10            0.1181             0.1551           0.1459   \n",
              "11            0.1396             0.5609           0.3965   \n",
              "12            0.1037             0.3903           0.3639   \n",
              "13            0.1131             0.1924           0.2322   \n",
              "14            0.1651             0.7725           0.6943   \n",
              "15            0.1678             0.6577           0.7026   \n",
              "16            0.1464             0.1871           0.2914   \n",
              "17            0.1789             0.4233           0.4784   \n",
              "18            0.1512             0.3150           0.5372   \n",
              "19            0.1440             0.1773           0.2390   \n",
              "\n",
              "    worst concave points  worst symmetry  worst fractal dimension         0  \\\n",
              "0                0.26540          0.4601                  0.11890  9.192837   \n",
              "1                0.18600          0.2750                  0.08902  2.387802   \n",
              "2                0.24300          0.3613                  0.08758  5.733896   \n",
              "3                0.25750          0.6638                  0.17300  7.122953   \n",
              "4                0.16250          0.2364                  0.07678  3.935302   \n",
              "5                0.17410          0.3985                  0.12440  2.380247   \n",
              "6                0.19320          0.3063                  0.08368  2.238883   \n",
              "7                0.15560          0.3196                  0.11510  2.143299   \n",
              "8                0.20600          0.4378                  0.10720  3.174924   \n",
              "9                0.22100          0.4366                  0.20750  6.351747   \n",
              "10               0.09975          0.2948                  0.08452 -0.810414   \n",
              "11               0.18100          0.3792                  0.10480  2.651100   \n",
              "12               0.17670          0.3176                  0.10230  8.185034   \n",
              "13               0.11190          0.2809                  0.06287  0.342126   \n",
              "14               0.22080          0.3596                  0.14310  4.342379   \n",
              "15               0.17120          0.4218                  0.13410  4.075656   \n",
              "16               0.16090          0.3029                  0.08216  0.230055   \n",
              "17               0.20730          0.3706                  0.11420  4.418011   \n",
              "18               0.23880          0.2768                  0.07615  4.948704   \n",
              "19               0.12880          0.2977                  0.07259 -1.237063   \n",
              "\n",
              "            1         2      label  \n",
              "0    1.948583 -1.123166  malignant  \n",
              "1   -3.768172 -0.529293  malignant  \n",
              "2   -1.075174 -0.551748  malignant  \n",
              "3   10.275589 -3.232790  malignant  \n",
              "4   -1.948072  1.389767  malignant  \n",
              "5    3.949929 -2.934877  malignant  \n",
              "6   -2.690031 -1.639913  malignant  \n",
              "7    2.340244 -0.871947  malignant  \n",
              "8    3.391813 -3.119986  malignant  \n",
              "9    7.727174 -4.341916  malignant  \n",
              "10  -2.659275 -0.488830  malignant  \n",
              "11   0.066568 -1.526455  malignant  \n",
              "12   2.700976  5.730231  malignant  \n",
              "13  -0.968279  1.717172  malignant  \n",
              "14   4.861083 -2.816116  malignant  \n",
              "15   2.977061 -3.125274  malignant  \n",
              "16  -1.564758 -0.802519  malignant  \n",
              "17   1.418670 -2.270319  malignant  \n",
              "18  -4.114334 -0.314749  malignant  \n",
              "19  -0.188215 -0.593283     benign  "
            ]
          },
          "metadata": {
            "tags": []
          },
          "execution_count": 22
        }
      ]
    },
    {
      "cell_type": "code",
      "metadata": {
        "id": "5iD3ZqdLktVm"
      },
      "source": [
        "# helper function for pca plots. Don't worry too much about code here\n",
        "def pca_plots(df, feature):\n",
        "    # Create two subplots and unpack the output array immediately\n",
        "    \n",
        "    # notes on matplotlibe for future reference: https://jakevdp.github.io/mpl_tutorial/tutorial_pages/tut3.html\n",
        "    \n",
        "    f, (ax1, ax2) = plt.subplots(1, 2)\n",
        "    # get data for plotting\n",
        "    feat_vect = df[feature].to_numpy()\n",
        "    x1 = df['0'].to_numpy()\n",
        "    x2 = df['1'].to_numpy()\n",
        "    x3 = df['2'].to_numpy()\n",
        "    \n",
        "    if np.issubdtype(feat_vect.dtype, np.number):\n",
        "        cmap_use = None\n",
        "        categorical = False\n",
        "        col_vect = feat_vect\n",
        "    else:\n",
        "        if not type(feat_vect.dtype) == np.string_:\n",
        "            try:\n",
        "                feat_vect = feat_vect.astype('str')\n",
        "            except:\n",
        "                raise ValueError('feature maps to a variable that is neither string nor numeric')\n",
        "        unique_cats = np.unique(feat_vect)\n",
        "        num_cats = len(unique_cats)\n",
        "        cmap_use=plt.cm.get_cmap('Pastel2', num_cats)\n",
        "        # since c must be numeric for scatter method,\n",
        "        # convert to numeric labels, which are mapped back to string labels\n",
        "        # when plotting\n",
        "        col_vect = np.zeros(len(feat_vect))\n",
        "        for i in range(0, num_cats):\n",
        "            col_vect[feat_vect == unique_cats[i]] = i\n",
        "        categorical = True\n",
        "        \n",
        "    # make plots\n",
        "    ax1.scatter(x1, x2, c = col_vect, cmap = cmap_use)\n",
        "    ax1.set_xlabel('PC 0')\n",
        "    ax1.set_ylabel('PC 1')\n",
        "    im = ax2.scatter(x2, x3, c = col_vect, cmap = cmap_use)\n",
        "    ax2.set_xlabel('PC 1')\n",
        "    ax2.set_ylabel('PC 2')\n",
        "    # add colorbar\n",
        "    if categorical:\n",
        "        formatter = plt.FuncFormatter(lambda val, loc: unique_cats[val])\n",
        "        f.colorbar(im, ax = ax2, ticks=np.arange(0, num_cats), format=formatter)\n",
        "    else:\n",
        "        f.colorbar(im, ax = ax2)\n",
        "    # set width + height\n",
        "    f.set_figheight(5)\n",
        "    f.set_figwidth(15)"
      ],
      "execution_count": null,
      "outputs": []
    },
    {
      "cell_type": "code",
      "metadata": {
        "id": "1ZUoEL5qktVq",
        "colab": {
          "referenced_widgets": [
            "f4ce000b02064940ac1f60c464502680"
          ]
        },
        "outputId": "d3e4ed0f-f77d-4389-cb47-a59a93d5704e"
      },
      "source": [
        "# Interactive PCA plot\n",
        "@interact\n",
        "# PCA plots\n",
        "def pca_interactive(df = fixed(combined_df), feature = combined_df.columns):\n",
        "    pca_plots(df = df, feature = feature)\n",
        "    "
      ],
      "execution_count": null,
      "outputs": [
        {
          "output_type": "display_data",
          "data": {
            "application/vnd.jupyter.widget-view+json": {
              "model_id": "f4ce000b02064940ac1f60c464502680",
              "version_major": 2,
              "version_minor": 0
            },
            "text/plain": [
              "interactive(children=(Dropdown(description='feature', options=('mean radius', 'mean texture', 'mean perimeter'…"
            ]
          },
          "metadata": {
            "tags": []
          }
        }
      ]
    },
    {
      "cell_type": "markdown",
      "metadata": {
        "id": "6457UzqXktVu"
      },
      "source": [
        "## Clustering\n",
        "\n",
        "### Overview\n",
        "\n",
        "Suppose you want to discover if there are groups of samples that are similar to one another, but don't know where to start? Manually examining numbers and grouping things together is not something people are great at, unless it's points in 2D and 3D space. Even then, you want to have a definition of how you got those groups. Clustering refers to automated procedures by which we can find groups given a bunch of samples defined by numbers.\n",
        "\n",
        "### Kmeans\n",
        "\n",
        "One example of clustering is kmeans, which attempts to find groups of samples where samples in the same group are closer to one another than they are to other samples.\n",
        "\n",
        "The function it tries to minimize is as follows:\n",
        "\n",
        "$\\sum_{i=1}^{N}\\sum_{k=1}^K r_{ik} \\cdot dist(x_i, \\mu_k)^2$\n",
        "\n",
        "where $x_i$ is a datapoint, $r_{ik}$ = 1 if $x_i$ is in cluster $k$ and = 0 otherwise, and $dist(x_i, \\mu_k)$ is the Euclidean distance between the datapoint and the mean of all datapoints in cluster k.\n",
        "\n",
        "More details on kmeans algorithm [here](https://see.stanford.edu/materials/aimlcs229/cs229-notes7a.pdf).\n",
        "\n",
        "We can try clustering with a varying number of clusters. For this exercise, we're going to use the first 2 PCs we found in the breast cancer dataset, as it will be easier to visualize what kmeans is doing.\n",
        "\n",
        "Let's try k = 2:"
      ]
    },
    {
      "cell_type": "code",
      "metadata": {
        "id": "5RoNHLZiktVv",
        "outputId": "1fd147d5-d1d3-44ef-9502-0ccb8c748b61"
      },
      "source": [
        "from sklearn import cluster\n",
        "\n",
        "# function to do kmeans and add data to dataframe\n",
        "\n",
        "def do_kmeans(df, feats_use, k = 2, col_name = 'cluster'):\n",
        "    # df = pandas DataFrame with numeric features\n",
        "    # feats_use = list or array features columns to subset\n",
        "    # modifies dataframe to contain cluster labels\n",
        "    data_use = df[feats_use].to_numpy().astype('float64')\n",
        "    # setup + run kmeans\n",
        "    kmeans_obj = cluster.KMeans(n_clusters = k, random_state = 42)\n",
        "    clust_labs = kmeans_obj.fit_predict(data_use)\n",
        "    # conver clust_labs to string (categorical)\n",
        "    clust_labs = clust_labs.astype('str')\n",
        "    df[col_name] = clust_labs\n",
        "    \n",
        "do_kmeans(combined_df, feats_use = ['0', '1'], k = 2, col_name = 'k2')\n",
        "\n",
        "combined_df.iloc[:,28:combined_df.shape[1]].head()"
      ],
      "execution_count": null,
      "outputs": [
        {
          "output_type": "execute_result",
          "data": {
            "text/html": [
              "<div>\n",
              "<style scoped>\n",
              "    .dataframe tbody tr th:only-of-type {\n",
              "        vertical-align: middle;\n",
              "    }\n",
              "\n",
              "    .dataframe tbody tr th {\n",
              "        vertical-align: top;\n",
              "    }\n",
              "\n",
              "    .dataframe thead th {\n",
              "        text-align: right;\n",
              "    }\n",
              "</style>\n",
              "<table border=\"1\" class=\"dataframe\">\n",
              "  <thead>\n",
              "    <tr style=\"text-align: right;\">\n",
              "      <th></th>\n",
              "      <th>worst symmetry</th>\n",
              "      <th>worst fractal dimension</th>\n",
              "      <th>0</th>\n",
              "      <th>1</th>\n",
              "      <th>2</th>\n",
              "      <th>label</th>\n",
              "      <th>k2</th>\n",
              "    </tr>\n",
              "  </thead>\n",
              "  <tbody>\n",
              "    <tr>\n",
              "      <th>0</th>\n",
              "      <td>0.4601</td>\n",
              "      <td>0.11890</td>\n",
              "      <td>9.192837</td>\n",
              "      <td>1.948583</td>\n",
              "      <td>-1.123166</td>\n",
              "      <td>malignant</td>\n",
              "      <td>1</td>\n",
              "    </tr>\n",
              "    <tr>\n",
              "      <th>1</th>\n",
              "      <td>0.2750</td>\n",
              "      <td>0.08902</td>\n",
              "      <td>2.387802</td>\n",
              "      <td>-3.768172</td>\n",
              "      <td>-0.529293</td>\n",
              "      <td>malignant</td>\n",
              "      <td>1</td>\n",
              "    </tr>\n",
              "    <tr>\n",
              "      <th>2</th>\n",
              "      <td>0.3613</td>\n",
              "      <td>0.08758</td>\n",
              "      <td>5.733896</td>\n",
              "      <td>-1.075174</td>\n",
              "      <td>-0.551748</td>\n",
              "      <td>malignant</td>\n",
              "      <td>1</td>\n",
              "    </tr>\n",
              "    <tr>\n",
              "      <th>3</th>\n",
              "      <td>0.6638</td>\n",
              "      <td>0.17300</td>\n",
              "      <td>7.122953</td>\n",
              "      <td>10.275589</td>\n",
              "      <td>-3.232790</td>\n",
              "      <td>malignant</td>\n",
              "      <td>1</td>\n",
              "    </tr>\n",
              "    <tr>\n",
              "      <th>4</th>\n",
              "      <td>0.2364</td>\n",
              "      <td>0.07678</td>\n",
              "      <td>3.935302</td>\n",
              "      <td>-1.948072</td>\n",
              "      <td>1.389767</td>\n",
              "      <td>malignant</td>\n",
              "      <td>1</td>\n",
              "    </tr>\n",
              "  </tbody>\n",
              "</table>\n",
              "</div>"
            ],
            "text/plain": [
              "   worst symmetry  worst fractal dimension         0          1         2  \\\n",
              "0          0.4601                  0.11890  9.192837   1.948583 -1.123166   \n",
              "1          0.2750                  0.08902  2.387802  -3.768172 -0.529293   \n",
              "2          0.3613                  0.08758  5.733896  -1.075174 -0.551748   \n",
              "3          0.6638                  0.17300  7.122953  10.275589 -3.232790   \n",
              "4          0.2364                  0.07678  3.935302  -1.948072  1.389767   \n",
              "\n",
              "       label k2  \n",
              "0  malignant  1  \n",
              "1  malignant  1  \n",
              "2  malignant  1  \n",
              "3  malignant  1  \n",
              "4  malignant  1  "
            ]
          },
          "metadata": {
            "tags": []
          },
          "execution_count": 25
        }
      ]
    },
    {
      "cell_type": "code",
      "metadata": {
        "id": "2xeTIKouktVz",
        "outputId": "95cc4d18-a15d-4dfa-c767-d0e86796a98d"
      },
      "source": [
        "pca_plots(combined_df, 'k2')"
      ],
      "execution_count": null,
      "outputs": [
        {
          "output_type": "display_data",
          "data": {
            "image/png": "[encoded data removed]",
            "text/plain": [
              "<Figure size 1080x360 with 3 Axes>"
            ]
          },
          "metadata": {
            "tags": [],
            "needs_background": "light"
          }
        }
      ]
    },
    {
      "cell_type": "code",
      "metadata": {
        "id": "V0iqaS_5ktV4",
        "outputId": "8f30d815-b46c-459b-92a2-00aa0c15453b"
      },
      "source": [
        "pca_plots(combined_df, 'label')"
      ],
      "execution_count": null,
      "outputs": [
        {
          "output_type": "display_data",
          "data": {
            "image/png": "[encoded data removed]",
            "text/plain": [
              "<Figure size 1080x360 with 3 Axes>"
            ]
          },
          "metadata": {
            "tags": [],
            "needs_background": "light"
          }
        }
      ]
    },
    {
      "cell_type": "markdown",
      "metadata": {
        "id": "dZKzSPNWktV6"
      },
      "source": [
        "Notice how the data's been partitioned into two clusters of samples that are close to one another? Also notice how in our particular dataset, clustering with k = 2 nicely partitions data into 2 groups separated perfectly in the space of PC 0 and PC 1?"
      ]
    },
    {
      "cell_type": "markdown",
      "metadata": {
        "id": "8azOpto1ktV7"
      },
      "source": [
        "Let's try k = 3:"
      ]
    },
    {
      "cell_type": "code",
      "metadata": {
        "id": "oLR1txNoktV7",
        "outputId": "ab896611-7a88-4823-f922-d6336222fef1"
      },
      "source": [
        "do_kmeans(combined_df, feats_use = ['0', '1'], k = 3, col_name = 'k3')\n",
        "\n",
        "combined_df.iloc[:,28:combined_df.shape[1]].head()"
      ],
      "execution_count": null,
      "outputs": [
        {
          "output_type": "execute_result",
          "data": {
            "text/html": [
              "<div>\n",
              "<style scoped>\n",
              "    .dataframe tbody tr th:only-of-type {\n",
              "        vertical-align: middle;\n",
              "    }\n",
              "\n",
              "    .dataframe tbody tr th {\n",
              "        vertical-align: top;\n",
              "    }\n",
              "\n",
              "    .dataframe thead th {\n",
              "        text-align: right;\n",
              "    }\n",
              "</style>\n",
              "<table border=\"1\" class=\"dataframe\">\n",
              "  <thead>\n",
              "    <tr style=\"text-align: right;\">\n",
              "      <th></th>\n",
              "      <th>worst symmetry</th>\n",
              "      <th>worst fractal dimension</th>\n",
              "      <th>0</th>\n",
              "      <th>1</th>\n",
              "      <th>2</th>\n",
              "      <th>label</th>\n",
              "      <th>k2</th>\n",
              "      <th>k3</th>\n",
              "    </tr>\n",
              "  </thead>\n",
              "  <tbody>\n",
              "    <tr>\n",
              "      <th>0</th>\n",
              "      <td>0.4601</td>\n",
              "      <td>0.11890</td>\n",
              "      <td>9.192837</td>\n",
              "      <td>1.948583</td>\n",
              "      <td>-1.123166</td>\n",
              "      <td>malignant</td>\n",
              "      <td>1</td>\n",
              "      <td>1</td>\n",
              "    </tr>\n",
              "    <tr>\n",
              "      <th>1</th>\n",
              "      <td>0.2750</td>\n",
              "      <td>0.08902</td>\n",
              "      <td>2.387802</td>\n",
              "      <td>-3.768172</td>\n",
              "      <td>-0.529293</td>\n",
              "      <td>malignant</td>\n",
              "      <td>1</td>\n",
              "      <td>1</td>\n",
              "    </tr>\n",
              "    <tr>\n",
              "      <th>2</th>\n",
              "      <td>0.3613</td>\n",
              "      <td>0.08758</td>\n",
              "      <td>5.733896</td>\n",
              "      <td>-1.075174</td>\n",
              "      <td>-0.551748</td>\n",
              "      <td>malignant</td>\n",
              "      <td>1</td>\n",
              "      <td>1</td>\n",
              "    </tr>\n",
              "    <tr>\n",
              "      <th>3</th>\n",
              "      <td>0.6638</td>\n",
              "      <td>0.17300</td>\n",
              "      <td>7.122953</td>\n",
              "      <td>10.275589</td>\n",
              "      <td>-3.232790</td>\n",
              "      <td>malignant</td>\n",
              "      <td>1</td>\n",
              "      <td>2</td>\n",
              "    </tr>\n",
              "    <tr>\n",
              "      <th>4</th>\n",
              "      <td>0.2364</td>\n",
              "      <td>0.07678</td>\n",
              "      <td>3.935302</td>\n",
              "      <td>-1.948072</td>\n",
              "      <td>1.389767</td>\n",
              "      <td>malignant</td>\n",
              "      <td>1</td>\n",
              "      <td>1</td>\n",
              "    </tr>\n",
              "  </tbody>\n",
              "</table>\n",
              "</div>"
            ],
            "text/plain": [
              "   worst symmetry  worst fractal dimension         0          1         2  \\\n",
              "0          0.4601                  0.11890  9.192837   1.948583 -1.123166   \n",
              "1          0.2750                  0.08902  2.387802  -3.768172 -0.529293   \n",
              "2          0.3613                  0.08758  5.733896  -1.075174 -0.551748   \n",
              "3          0.6638                  0.17300  7.122953  10.275589 -3.232790   \n",
              "4          0.2364                  0.07678  3.935302  -1.948072  1.389767   \n",
              "\n",
              "       label k2 k3  \n",
              "0  malignant  1  1  \n",
              "1  malignant  1  1  \n",
              "2  malignant  1  1  \n",
              "3  malignant  1  2  \n",
              "4  malignant  1  1  "
            ]
          },
          "metadata": {
            "tags": []
          },
          "execution_count": 28
        }
      ]
    },
    {
      "cell_type": "code",
      "metadata": {
        "id": "uTrc7ImNktV_",
        "outputId": "b6d1da10-3864-49a3-85a1-2a7450434233"
      },
      "source": [
        "pca_plots(combined_df, 'k3')"
      ],
      "execution_count": null,
      "outputs": [
        {
          "output_type": "display_data",
          "data": {
            "image/png": "[encoded data removed]",
            "text/plain": [
              "<Figure size 1080x360 with 3 Axes>"
            ]
          },
          "metadata": {
            "tags": [],
            "needs_background": "light"
          }
        }
      ]
    },
    {
      "cell_type": "markdown",
      "metadata": {
        "id": "QK5g-KS9ktWC"
      },
      "source": [
        "Now we have 3 groups of samples that looks close to one another. Also notice that again, separation only happens in PC 0 and PC 1, the variables that were input to kmeans clustering\n",
        "\n",
        "### Side Notes on Kmeans\n",
        "\n",
        "Kmeans starts with randomly assigned clusters, and tries to improve cluster assignment in an iterative process. We set a seed for a random number generator which ensures that, given a particular random seed, we get the same clustering result every time. Different start points can result in different solutions. If you really want to be rigorous about checking if the solutions that come out don't vary too much given different start points, you can run kmeans 100-1000 times with different seeds and calculate the similarity of solutions with the [adjusted rand index](https://en.wikipedia.org/wiki/Rand_index#Adjusted_Rand_index).\n",
        "\n",
        "Kmeans works best if data is distributed roughly spherically, i.e. the density of points emanating from the center of a given group doesn't change that much depending on the direction outward from the center of the cluster. Kmeans also doesn't work well when groups of samples have a curved distribution. Examples of how violations of this assumption can lead to bad clustering are given [here](https://scikit-learn.org/stable/modules/clustering.html)"
      ]
    },
    {
      "cell_type": "markdown",
      "metadata": {
        "id": "qacirSfhktWD"
      },
      "source": [
        "#### Choosing the number of clusters\n",
        "\n",
        "The question then arises: How many clusters is the best number? If we choose too few, we might not be capturing all of the cool structure in the data. \n",
        "\n",
        "We can use the silhouette score, which compares the the distance between samples in the same cluster to samples in the nearest cluster (more on the silhouette score [here](https://scikit-learn.org/stable/modules/generated/sklearn.metrics.silhouette_score.html).  Ideally, we want to maximize this score across all clusters, so we'll take the average silhouette score across all samples and make this the function we want to maximize.\n",
        "\n",
        "Let's see both the clusters that come out and the resulting scores\n"
      ]
    },
    {
      "cell_type": "code",
      "metadata": {
        "id": "qSRv-ulWktWD",
        "outputId": "c6a01be2-7ddf-45b2-a1af-98434e7c46f4"
      },
      "source": [
        "from sklearn import metrics\n",
        "\n",
        "def silhouette_analysis(df, feats_use = ['0', '1'], k_use = np.arange(2,9)):\n",
        "    # copy dataframe and do not modify input\n",
        "    df_copy = df.copy()\n",
        "    mean_silhouette_scores = []\n",
        "    for k in k_use:\n",
        "        col_name = 'k' + str(k)\n",
        "        do_kmeans(df_copy, feats_use = feats_use, k = k, col_name = col_name)\n",
        "        input_data = df_copy[feats_use].to_numpy().astype('float64')\n",
        "        clust_labs = df_copy[col_name]\n",
        "        dist_mat = metrics.pairwise.euclidean_distances(input_data)\n",
        "        s_mean = metrics.silhouette_score(dist_mat, clust_labs)\n",
        "        mean_silhouette_scores.append(s_mean)\n",
        "    return(mean_silhouette_scores)\n",
        "\n",
        "s_scores = silhouette_analysis(combined_df)\n",
        "plt.plot(np.arange(2,9), s_scores)\n",
        "plt.xlabel('number of clusters')\n",
        "plt.ylabel('silhouette score')"
      ],
      "execution_count": null,
      "outputs": [
        {
          "output_type": "execute_result",
          "data": {
            "text/plain": [
              "Text(0, 0.5, 'silhouette score')"
            ]
          },
          "metadata": {
            "tags": []
          },
          "execution_count": 30
        },
        {
          "output_type": "display_data",
          "data": {
            "image/png": "[encoded data removed]",
            "text/plain": [
              "<Figure size 432x288 with 1 Axes>"
            ]
          },
          "metadata": {
            "tags": [],
            "needs_background": "light"
          }
        }
      ]
    },
    {
      "cell_type": "markdown",
      "metadata": {
        "id": "7bNZSEl6ktWG"
      },
      "source": [
        "As we can see, and perhaps unsurprisingly, 2 clusters gives the best separation of datapoints into clusters"
      ]
    },
    {
      "cell_type": "markdown",
      "metadata": {
        "id": "Tzbl0jrlktWH"
      },
      "source": [
        "## Summary:\n",
        "\n",
        "We did an initial data exploration of a breast cancer dataset with PCA, and learned how clustering can automatically group similar samples together. Now it's your turn to apply what you've learned to your own data and see if you can find any cool insights!"
      ]
    }
  ]
}