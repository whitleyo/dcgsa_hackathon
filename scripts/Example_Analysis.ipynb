{
 "cells": [
  {
   "cell_type": "code",
   "execution_count": 45,
   "metadata": {},
   "outputs": [],
   "source": [
    "# necessary libraries. \n",
    "import numpy as np\n",
    "import pandas as pd\n",
    "import seaborn as se\n",
    "from sklearn import linear_model as LM\n",
    "from sklearn import neighbors as NB\n",
    "from sklearn.model_selection import GridSearchCV\n",
    "from sklearn import preprocessing\n",
    "from sklearn import decomposition\n",
    "import os"
   ]
  },
  {
   "cell_type": "code",
   "execution_count": 17,
   "metadata": {},
   "outputs": [],
   "source": [
    "top_dir = '/home/owenwhitley/projects/dcgsa_hackathon'\n",
    "data_dir = os.path.join(top_dir, 'data')\n",
    "train_file = os.path.join(data_dir, 'train.csv')\n",
    "test_file = os.path.join(data_dir, 'test.csv')\n",
    "train_data = pd.read_csv(train_file)\n",
    "test_data = pd.read_csv(test_file)"
   ]
  },
  {
   "cell_type": "markdown",
   "metadata": {},
   "source": [
    "Our data consists of log fpkm values for 5 cell lines (A375, DLD1, GBM, HCT116, HELA, RPE1) and in subsequent columns (MAX and onwards) 1 for the presence of a protein protein interaction and 0 for the absense of an interaction."
   ]
  },
  {
   "cell_type": "code",
   "execution_count": 18,
   "metadata": {},
   "outputs": [
    {
     "data": {
      "text/html": [
       "<div>\n",
       "<style scoped>\n",
       "    .dataframe tbody tr th:only-of-type {\n",
       "        vertical-align: middle;\n",
       "    }\n",
       "\n",
       "    .dataframe tbody tr th {\n",
       "        vertical-align: top;\n",
       "    }\n",
       "\n",
       "    .dataframe thead th {\n",
       "        text-align: right;\n",
       "    }\n",
       "</style>\n",
       "<table border=\"1\" class=\"dataframe\">\n",
       "  <thead>\n",
       "    <tr style=\"text-align: right;\">\n",
       "      <th></th>\n",
       "      <th>Unnamed: 0</th>\n",
       "      <th>IS_CORE_ESSENTIAL</th>\n",
       "      <th>A375</th>\n",
       "      <th>DLD1</th>\n",
       "      <th>GBM</th>\n",
       "      <th>HCT116</th>\n",
       "      <th>HELA</th>\n",
       "      <th>RPE1</th>\n",
       "      <th>MAX</th>\n",
       "      <th>MYCN</th>\n",
       "      <th>...</th>\n",
       "      <th>BNIP2</th>\n",
       "      <th>BNIP3</th>\n",
       "      <th>SUV39H1</th>\n",
       "      <th>TGFB2</th>\n",
       "      <th>TPD52</th>\n",
       "      <th>TPD52L1</th>\n",
       "      <th>VANGL1</th>\n",
       "      <th>CD82</th>\n",
       "      <th>MAST2</th>\n",
       "      <th>CDHR2</th>\n",
       "    </tr>\n",
       "  </thead>\n",
       "  <tbody>\n",
       "    <tr>\n",
       "      <th>0</th>\n",
       "      <td>SLC7A4</td>\n",
       "      <td>0</td>\n",
       "      <td>-5.887</td>\n",
       "      <td>-5.845</td>\n",
       "      <td>-6.644</td>\n",
       "      <td>-6.644</td>\n",
       "      <td>-6.644</td>\n",
       "      <td>-5.265</td>\n",
       "      <td>0</td>\n",
       "      <td>0</td>\n",
       "      <td>...</td>\n",
       "      <td>0</td>\n",
       "      <td>0</td>\n",
       "      <td>0</td>\n",
       "      <td>0</td>\n",
       "      <td>0</td>\n",
       "      <td>0</td>\n",
       "      <td>0</td>\n",
       "      <td>0</td>\n",
       "      <td>0</td>\n",
       "      <td>0</td>\n",
       "    </tr>\n",
       "    <tr>\n",
       "      <th>1</th>\n",
       "      <td>ERCC4</td>\n",
       "      <td>1</td>\n",
       "      <td>2.344</td>\n",
       "      <td>2.051</td>\n",
       "      <td>2.604</td>\n",
       "      <td>2.239</td>\n",
       "      <td>2.795</td>\n",
       "      <td>2.246</td>\n",
       "      <td>0</td>\n",
       "      <td>0</td>\n",
       "      <td>...</td>\n",
       "      <td>0</td>\n",
       "      <td>0</td>\n",
       "      <td>0</td>\n",
       "      <td>0</td>\n",
       "      <td>0</td>\n",
       "      <td>0</td>\n",
       "      <td>0</td>\n",
       "      <td>0</td>\n",
       "      <td>0</td>\n",
       "      <td>0</td>\n",
       "    </tr>\n",
       "    <tr>\n",
       "      <th>2</th>\n",
       "      <td>EIF3G</td>\n",
       "      <td>1</td>\n",
       "      <td>7.561</td>\n",
       "      <td>7.053</td>\n",
       "      <td>6.966</td>\n",
       "      <td>7.232</td>\n",
       "      <td>6.758</td>\n",
       "      <td>6.816</td>\n",
       "      <td>0</td>\n",
       "      <td>0</td>\n",
       "      <td>...</td>\n",
       "      <td>0</td>\n",
       "      <td>0</td>\n",
       "      <td>0</td>\n",
       "      <td>0</td>\n",
       "      <td>0</td>\n",
       "      <td>0</td>\n",
       "      <td>0</td>\n",
       "      <td>0</td>\n",
       "      <td>0</td>\n",
       "      <td>0</td>\n",
       "    </tr>\n",
       "    <tr>\n",
       "      <th>3</th>\n",
       "      <td>LARP1B</td>\n",
       "      <td>0</td>\n",
       "      <td>3.050</td>\n",
       "      <td>3.706</td>\n",
       "      <td>2.725</td>\n",
       "      <td>3.750</td>\n",
       "      <td>2.309</td>\n",
       "      <td>3.159</td>\n",
       "      <td>0</td>\n",
       "      <td>0</td>\n",
       "      <td>...</td>\n",
       "      <td>0</td>\n",
       "      <td>0</td>\n",
       "      <td>0</td>\n",
       "      <td>0</td>\n",
       "      <td>0</td>\n",
       "      <td>0</td>\n",
       "      <td>0</td>\n",
       "      <td>0</td>\n",
       "      <td>0</td>\n",
       "      <td>0</td>\n",
       "    </tr>\n",
       "    <tr>\n",
       "      <th>4</th>\n",
       "      <td>DHX29</td>\n",
       "      <td>0</td>\n",
       "      <td>4.503</td>\n",
       "      <td>4.032</td>\n",
       "      <td>3.726</td>\n",
       "      <td>3.898</td>\n",
       "      <td>3.181</td>\n",
       "      <td>4.073</td>\n",
       "      <td>0</td>\n",
       "      <td>0</td>\n",
       "      <td>...</td>\n",
       "      <td>0</td>\n",
       "      <td>0</td>\n",
       "      <td>0</td>\n",
       "      <td>0</td>\n",
       "      <td>0</td>\n",
       "      <td>0</td>\n",
       "      <td>0</td>\n",
       "      <td>0</td>\n",
       "      <td>0</td>\n",
       "      <td>0</td>\n",
       "    </tr>\n",
       "    <tr>\n",
       "      <th>...</th>\n",
       "      <td>...</td>\n",
       "      <td>...</td>\n",
       "      <td>...</td>\n",
       "      <td>...</td>\n",
       "      <td>...</td>\n",
       "      <td>...</td>\n",
       "      <td>...</td>\n",
       "      <td>...</td>\n",
       "      <td>...</td>\n",
       "      <td>...</td>\n",
       "      <td>...</td>\n",
       "      <td>...</td>\n",
       "      <td>...</td>\n",
       "      <td>...</td>\n",
       "      <td>...</td>\n",
       "      <td>...</td>\n",
       "      <td>...</td>\n",
       "      <td>...</td>\n",
       "      <td>...</td>\n",
       "      <td>...</td>\n",
       "      <td>...</td>\n",
       "    </tr>\n",
       "    <tr>\n",
       "      <th>2706</th>\n",
       "      <td>WDR13</td>\n",
       "      <td>0</td>\n",
       "      <td>5.391</td>\n",
       "      <td>6.390</td>\n",
       "      <td>5.277</td>\n",
       "      <td>5.297</td>\n",
       "      <td>5.640</td>\n",
       "      <td>5.233</td>\n",
       "      <td>0</td>\n",
       "      <td>0</td>\n",
       "      <td>...</td>\n",
       "      <td>0</td>\n",
       "      <td>0</td>\n",
       "      <td>0</td>\n",
       "      <td>0</td>\n",
       "      <td>0</td>\n",
       "      <td>0</td>\n",
       "      <td>0</td>\n",
       "      <td>0</td>\n",
       "      <td>0</td>\n",
       "      <td>0</td>\n",
       "    </tr>\n",
       "    <tr>\n",
       "      <th>2707</th>\n",
       "      <td>RPL29</td>\n",
       "      <td>1</td>\n",
       "      <td>9.948</td>\n",
       "      <td>10.408</td>\n",
       "      <td>9.862</td>\n",
       "      <td>10.019</td>\n",
       "      <td>9.013</td>\n",
       "      <td>9.449</td>\n",
       "      <td>0</td>\n",
       "      <td>0</td>\n",
       "      <td>...</td>\n",
       "      <td>0</td>\n",
       "      <td>0</td>\n",
       "      <td>0</td>\n",
       "      <td>0</td>\n",
       "      <td>0</td>\n",
       "      <td>0</td>\n",
       "      <td>0</td>\n",
       "      <td>0</td>\n",
       "      <td>0</td>\n",
       "      <td>0</td>\n",
       "    </tr>\n",
       "    <tr>\n",
       "      <th>2708</th>\n",
       "      <td>TRMU</td>\n",
       "      <td>0</td>\n",
       "      <td>4.153</td>\n",
       "      <td>5.689</td>\n",
       "      <td>4.532</td>\n",
       "      <td>5.266</td>\n",
       "      <td>5.306</td>\n",
       "      <td>5.272</td>\n",
       "      <td>0</td>\n",
       "      <td>0</td>\n",
       "      <td>...</td>\n",
       "      <td>0</td>\n",
       "      <td>0</td>\n",
       "      <td>0</td>\n",
       "      <td>0</td>\n",
       "      <td>0</td>\n",
       "      <td>0</td>\n",
       "      <td>0</td>\n",
       "      <td>0</td>\n",
       "      <td>0</td>\n",
       "      <td>0</td>\n",
       "    </tr>\n",
       "    <tr>\n",
       "      <th>2709</th>\n",
       "      <td>DHX9</td>\n",
       "      <td>1</td>\n",
       "      <td>6.822</td>\n",
       "      <td>6.726</td>\n",
       "      <td>6.558</td>\n",
       "      <td>6.943</td>\n",
       "      <td>6.084</td>\n",
       "      <td>6.365</td>\n",
       "      <td>0</td>\n",
       "      <td>0</td>\n",
       "      <td>...</td>\n",
       "      <td>0</td>\n",
       "      <td>0</td>\n",
       "      <td>0</td>\n",
       "      <td>0</td>\n",
       "      <td>0</td>\n",
       "      <td>0</td>\n",
       "      <td>0</td>\n",
       "      <td>0</td>\n",
       "      <td>0</td>\n",
       "      <td>0</td>\n",
       "    </tr>\n",
       "    <tr>\n",
       "      <th>2710</th>\n",
       "      <td>AP3S1</td>\n",
       "      <td>0</td>\n",
       "      <td>5.898</td>\n",
       "      <td>5.694</td>\n",
       "      <td>5.842</td>\n",
       "      <td>8.691</td>\n",
       "      <td>5.870</td>\n",
       "      <td>6.385</td>\n",
       "      <td>0</td>\n",
       "      <td>0</td>\n",
       "      <td>...</td>\n",
       "      <td>0</td>\n",
       "      <td>0</td>\n",
       "      <td>0</td>\n",
       "      <td>0</td>\n",
       "      <td>0</td>\n",
       "      <td>0</td>\n",
       "      <td>0</td>\n",
       "      <td>0</td>\n",
       "      <td>0</td>\n",
       "      <td>0</td>\n",
       "    </tr>\n",
       "  </tbody>\n",
       "</table>\n",
       "<p>2711 rows × 3397 columns</p>\n",
       "</div>"
      ],
      "text/plain": [
       "     Unnamed: 0  IS_CORE_ESSENTIAL   A375    DLD1    GBM  HCT116   HELA  \\\n",
       "0        SLC7A4                  0 -5.887  -5.845 -6.644  -6.644 -6.644   \n",
       "1         ERCC4                  1  2.344   2.051  2.604   2.239  2.795   \n",
       "2         EIF3G                  1  7.561   7.053  6.966   7.232  6.758   \n",
       "3        LARP1B                  0  3.050   3.706  2.725   3.750  2.309   \n",
       "4         DHX29                  0  4.503   4.032  3.726   3.898  3.181   \n",
       "...         ...                ...    ...     ...    ...     ...    ...   \n",
       "2706      WDR13                  0  5.391   6.390  5.277   5.297  5.640   \n",
       "2707      RPL29                  1  9.948  10.408  9.862  10.019  9.013   \n",
       "2708       TRMU                  0  4.153   5.689  4.532   5.266  5.306   \n",
       "2709       DHX9                  1  6.822   6.726  6.558   6.943  6.084   \n",
       "2710      AP3S1                  0  5.898   5.694  5.842   8.691  5.870   \n",
       "\n",
       "       RPE1  MAX  MYCN  ...  BNIP2  BNIP3  SUV39H1  TGFB2  TPD52  TPD52L1  \\\n",
       "0    -5.265    0     0  ...      0      0        0      0      0        0   \n",
       "1     2.246    0     0  ...      0      0        0      0      0        0   \n",
       "2     6.816    0     0  ...      0      0        0      0      0        0   \n",
       "3     3.159    0     0  ...      0      0        0      0      0        0   \n",
       "4     4.073    0     0  ...      0      0        0      0      0        0   \n",
       "...     ...  ...   ...  ...    ...    ...      ...    ...    ...      ...   \n",
       "2706  5.233    0     0  ...      0      0        0      0      0        0   \n",
       "2707  9.449    0     0  ...      0      0        0      0      0        0   \n",
       "2708  5.272    0     0  ...      0      0        0      0      0        0   \n",
       "2709  6.365    0     0  ...      0      0        0      0      0        0   \n",
       "2710  6.385    0     0  ...      0      0        0      0      0        0   \n",
       "\n",
       "      VANGL1  CD82  MAST2  CDHR2  \n",
       "0          0     0      0      0  \n",
       "1          0     0      0      0  \n",
       "2          0     0      0      0  \n",
       "3          0     0      0      0  \n",
       "4          0     0      0      0  \n",
       "...      ...   ...    ...    ...  \n",
       "2706       0     0      0      0  \n",
       "2707       0     0      0      0  \n",
       "2708       0     0      0      0  \n",
       "2709       0     0      0      0  \n",
       "2710       0     0      0      0  \n",
       "\n",
       "[2711 rows x 3397 columns]"
      ]
     },
     "execution_count": 18,
     "metadata": {},
     "output_type": "execute_result"
    }
   ],
   "source": [
    "train_data"
   ]
  },
  {
   "cell_type": "code",
   "execution_count": 19,
   "metadata": {},
   "outputs": [
    {
     "data": {
      "text/html": [
       "<div>\n",
       "<style scoped>\n",
       "    .dataframe tbody tr th:only-of-type {\n",
       "        vertical-align: middle;\n",
       "    }\n",
       "\n",
       "    .dataframe tbody tr th {\n",
       "        vertical-align: top;\n",
       "    }\n",
       "\n",
       "    .dataframe thead th {\n",
       "        text-align: right;\n",
       "    }\n",
       "</style>\n",
       "<table border=\"1\" class=\"dataframe\">\n",
       "  <thead>\n",
       "    <tr style=\"text-align: right;\">\n",
       "      <th></th>\n",
       "      <th>Unnamed: 0</th>\n",
       "      <th>IS_CORE_ESSENTIAL</th>\n",
       "      <th>A375</th>\n",
       "      <th>DLD1</th>\n",
       "      <th>GBM</th>\n",
       "      <th>HCT116</th>\n",
       "      <th>HELA</th>\n",
       "      <th>RPE1</th>\n",
       "      <th>MAX</th>\n",
       "      <th>MYCN</th>\n",
       "      <th>...</th>\n",
       "      <th>BNIP2</th>\n",
       "      <th>BNIP3</th>\n",
       "      <th>SUV39H1</th>\n",
       "      <th>TGFB2</th>\n",
       "      <th>TPD52</th>\n",
       "      <th>TPD52L1</th>\n",
       "      <th>VANGL1</th>\n",
       "      <th>CD82</th>\n",
       "      <th>MAST2</th>\n",
       "      <th>CDHR2</th>\n",
       "    </tr>\n",
       "  </thead>\n",
       "  <tbody>\n",
       "    <tr>\n",
       "      <th>0</th>\n",
       "      <td>PDCD4</td>\n",
       "      <td>0</td>\n",
       "      <td>7.015</td>\n",
       "      <td>6.614</td>\n",
       "      <td>5.821</td>\n",
       "      <td>5.921</td>\n",
       "      <td>7.199</td>\n",
       "      <td>5.618</td>\n",
       "      <td>0</td>\n",
       "      <td>0</td>\n",
       "      <td>...</td>\n",
       "      <td>0</td>\n",
       "      <td>0</td>\n",
       "      <td>0</td>\n",
       "      <td>0</td>\n",
       "      <td>0</td>\n",
       "      <td>0</td>\n",
       "      <td>0</td>\n",
       "      <td>0</td>\n",
       "      <td>0</td>\n",
       "      <td>0</td>\n",
       "    </tr>\n",
       "    <tr>\n",
       "      <th>1</th>\n",
       "      <td>DAXX</td>\n",
       "      <td>0</td>\n",
       "      <td>5.275</td>\n",
       "      <td>5.670</td>\n",
       "      <td>5.319</td>\n",
       "      <td>5.751</td>\n",
       "      <td>4.520</td>\n",
       "      <td>5.507</td>\n",
       "      <td>0</td>\n",
       "      <td>0</td>\n",
       "      <td>...</td>\n",
       "      <td>0</td>\n",
       "      <td>0</td>\n",
       "      <td>0</td>\n",
       "      <td>0</td>\n",
       "      <td>0</td>\n",
       "      <td>0</td>\n",
       "      <td>0</td>\n",
       "      <td>0</td>\n",
       "      <td>0</td>\n",
       "      <td>0</td>\n",
       "    </tr>\n",
       "    <tr>\n",
       "      <th>2</th>\n",
       "      <td>RUNX3</td>\n",
       "      <td>0</td>\n",
       "      <td>3.581</td>\n",
       "      <td>-4.866</td>\n",
       "      <td>-4.808</td>\n",
       "      <td>3.612</td>\n",
       "      <td>0.051</td>\n",
       "      <td>-5.703</td>\n",
       "      <td>0</td>\n",
       "      <td>0</td>\n",
       "      <td>...</td>\n",
       "      <td>0</td>\n",
       "      <td>0</td>\n",
       "      <td>0</td>\n",
       "      <td>0</td>\n",
       "      <td>0</td>\n",
       "      <td>0</td>\n",
       "      <td>0</td>\n",
       "      <td>0</td>\n",
       "      <td>0</td>\n",
       "      <td>0</td>\n",
       "    </tr>\n",
       "    <tr>\n",
       "      <th>3</th>\n",
       "      <td>TLE1</td>\n",
       "      <td>0</td>\n",
       "      <td>4.237</td>\n",
       "      <td>4.221</td>\n",
       "      <td>5.037</td>\n",
       "      <td>2.818</td>\n",
       "      <td>1.998</td>\n",
       "      <td>4.018</td>\n",
       "      <td>0</td>\n",
       "      <td>0</td>\n",
       "      <td>...</td>\n",
       "      <td>0</td>\n",
       "      <td>0</td>\n",
       "      <td>0</td>\n",
       "      <td>0</td>\n",
       "      <td>0</td>\n",
       "      <td>0</td>\n",
       "      <td>0</td>\n",
       "      <td>0</td>\n",
       "      <td>0</td>\n",
       "      <td>0</td>\n",
       "    </tr>\n",
       "    <tr>\n",
       "      <th>4</th>\n",
       "      <td>GREM1</td>\n",
       "      <td>0</td>\n",
       "      <td>-5.200</td>\n",
       "      <td>-5.520</td>\n",
       "      <td>-6.322</td>\n",
       "      <td>-6.179</td>\n",
       "      <td>-3.027</td>\n",
       "      <td>7.558</td>\n",
       "      <td>0</td>\n",
       "      <td>0</td>\n",
       "      <td>...</td>\n",
       "      <td>0</td>\n",
       "      <td>0</td>\n",
       "      <td>0</td>\n",
       "      <td>0</td>\n",
       "      <td>0</td>\n",
       "      <td>0</td>\n",
       "      <td>0</td>\n",
       "      <td>0</td>\n",
       "      <td>0</td>\n",
       "      <td>0</td>\n",
       "    </tr>\n",
       "    <tr>\n",
       "      <th>...</th>\n",
       "      <td>...</td>\n",
       "      <td>...</td>\n",
       "      <td>...</td>\n",
       "      <td>...</td>\n",
       "      <td>...</td>\n",
       "      <td>...</td>\n",
       "      <td>...</td>\n",
       "      <td>...</td>\n",
       "      <td>...</td>\n",
       "      <td>...</td>\n",
       "      <td>...</td>\n",
       "      <td>...</td>\n",
       "      <td>...</td>\n",
       "      <td>...</td>\n",
       "      <td>...</td>\n",
       "      <td>...</td>\n",
       "      <td>...</td>\n",
       "      <td>...</td>\n",
       "      <td>...</td>\n",
       "      <td>...</td>\n",
       "      <td>...</td>\n",
       "    </tr>\n",
       "    <tr>\n",
       "      <th>673</th>\n",
       "      <td>TGFB2</td>\n",
       "      <td>0</td>\n",
       "      <td>-1.994</td>\n",
       "      <td>5.016</td>\n",
       "      <td>-0.448</td>\n",
       "      <td>-1.983</td>\n",
       "      <td>-0.146</td>\n",
       "      <td>6.664</td>\n",
       "      <td>0</td>\n",
       "      <td>0</td>\n",
       "      <td>...</td>\n",
       "      <td>0</td>\n",
       "      <td>0</td>\n",
       "      <td>0</td>\n",
       "      <td>0</td>\n",
       "      <td>0</td>\n",
       "      <td>0</td>\n",
       "      <td>0</td>\n",
       "      <td>0</td>\n",
       "      <td>0</td>\n",
       "      <td>0</td>\n",
       "    </tr>\n",
       "    <tr>\n",
       "      <th>674</th>\n",
       "      <td>TPD52</td>\n",
       "      <td>0</td>\n",
       "      <td>5.640</td>\n",
       "      <td>6.747</td>\n",
       "      <td>-5.381</td>\n",
       "      <td>6.984</td>\n",
       "      <td>6.346</td>\n",
       "      <td>1.369</td>\n",
       "      <td>0</td>\n",
       "      <td>0</td>\n",
       "      <td>...</td>\n",
       "      <td>0</td>\n",
       "      <td>0</td>\n",
       "      <td>0</td>\n",
       "      <td>0</td>\n",
       "      <td>1</td>\n",
       "      <td>1</td>\n",
       "      <td>0</td>\n",
       "      <td>0</td>\n",
       "      <td>0</td>\n",
       "      <td>0</td>\n",
       "    </tr>\n",
       "    <tr>\n",
       "      <th>675</th>\n",
       "      <td>TPD52L1</td>\n",
       "      <td>0</td>\n",
       "      <td>4.521</td>\n",
       "      <td>5.792</td>\n",
       "      <td>4.425</td>\n",
       "      <td>4.604</td>\n",
       "      <td>5.937</td>\n",
       "      <td>4.751</td>\n",
       "      <td>0</td>\n",
       "      <td>0</td>\n",
       "      <td>...</td>\n",
       "      <td>0</td>\n",
       "      <td>0</td>\n",
       "      <td>0</td>\n",
       "      <td>0</td>\n",
       "      <td>1</td>\n",
       "      <td>1</td>\n",
       "      <td>0</td>\n",
       "      <td>0</td>\n",
       "      <td>0</td>\n",
       "      <td>0</td>\n",
       "    </tr>\n",
       "    <tr>\n",
       "      <th>676</th>\n",
       "      <td>CD82</td>\n",
       "      <td>0</td>\n",
       "      <td>2.441</td>\n",
       "      <td>1.324</td>\n",
       "      <td>2.578</td>\n",
       "      <td>3.576</td>\n",
       "      <td>5.532</td>\n",
       "      <td>4.880</td>\n",
       "      <td>0</td>\n",
       "      <td>0</td>\n",
       "      <td>...</td>\n",
       "      <td>0</td>\n",
       "      <td>0</td>\n",
       "      <td>0</td>\n",
       "      <td>0</td>\n",
       "      <td>0</td>\n",
       "      <td>0</td>\n",
       "      <td>1</td>\n",
       "      <td>0</td>\n",
       "      <td>0</td>\n",
       "      <td>0</td>\n",
       "    </tr>\n",
       "    <tr>\n",
       "      <th>677</th>\n",
       "      <td>MAST2</td>\n",
       "      <td>0</td>\n",
       "      <td>3.405</td>\n",
       "      <td>4.551</td>\n",
       "      <td>4.321</td>\n",
       "      <td>4.419</td>\n",
       "      <td>3.015</td>\n",
       "      <td>4.279</td>\n",
       "      <td>0</td>\n",
       "      <td>0</td>\n",
       "      <td>...</td>\n",
       "      <td>0</td>\n",
       "      <td>0</td>\n",
       "      <td>0</td>\n",
       "      <td>0</td>\n",
       "      <td>0</td>\n",
       "      <td>0</td>\n",
       "      <td>0</td>\n",
       "      <td>0</td>\n",
       "      <td>0</td>\n",
       "      <td>1</td>\n",
       "    </tr>\n",
       "  </tbody>\n",
       "</table>\n",
       "<p>678 rows × 3397 columns</p>\n",
       "</div>"
      ],
      "text/plain": [
       "    Unnamed: 0  IS_CORE_ESSENTIAL   A375   DLD1    GBM  HCT116   HELA   RPE1  \\\n",
       "0        PDCD4                  0  7.015  6.614  5.821   5.921  7.199  5.618   \n",
       "1         DAXX                  0  5.275  5.670  5.319   5.751  4.520  5.507   \n",
       "2        RUNX3                  0  3.581 -4.866 -4.808   3.612  0.051 -5.703   \n",
       "3         TLE1                  0  4.237  4.221  5.037   2.818  1.998  4.018   \n",
       "4        GREM1                  0 -5.200 -5.520 -6.322  -6.179 -3.027  7.558   \n",
       "..         ...                ...    ...    ...    ...     ...    ...    ...   \n",
       "673      TGFB2                  0 -1.994  5.016 -0.448  -1.983 -0.146  6.664   \n",
       "674      TPD52                  0  5.640  6.747 -5.381   6.984  6.346  1.369   \n",
       "675    TPD52L1                  0  4.521  5.792  4.425   4.604  5.937  4.751   \n",
       "676       CD82                  0  2.441  1.324  2.578   3.576  5.532  4.880   \n",
       "677      MAST2                  0  3.405  4.551  4.321   4.419  3.015  4.279   \n",
       "\n",
       "     MAX  MYCN  ...  BNIP2  BNIP3  SUV39H1  TGFB2  TPD52  TPD52L1  VANGL1  \\\n",
       "0      0     0  ...      0      0        0      0      0        0       0   \n",
       "1      0     0  ...      0      0        0      0      0        0       0   \n",
       "2      0     0  ...      0      0        0      0      0        0       0   \n",
       "3      0     0  ...      0      0        0      0      0        0       0   \n",
       "4      0     0  ...      0      0        0      0      0        0       0   \n",
       "..   ...   ...  ...    ...    ...      ...    ...    ...      ...     ...   \n",
       "673    0     0  ...      0      0        0      0      0        0       0   \n",
       "674    0     0  ...      0      0        0      0      1        1       0   \n",
       "675    0     0  ...      0      0        0      0      1        1       0   \n",
       "676    0     0  ...      0      0        0      0      0        0       1   \n",
       "677    0     0  ...      0      0        0      0      0        0       0   \n",
       "\n",
       "     CD82  MAST2  CDHR2  \n",
       "0       0      0      0  \n",
       "1       0      0      0  \n",
       "2       0      0      0  \n",
       "3       0      0      0  \n",
       "4       0      0      0  \n",
       "..    ...    ...    ...  \n",
       "673     0      0      0  \n",
       "674     0      0      0  \n",
       "675     0      0      0  \n",
       "676     0      0      0  \n",
       "677     0      0      1  \n",
       "\n",
       "[678 rows x 3397 columns]"
      ]
     },
     "execution_count": 19,
     "metadata": {},
     "output_type": "execute_result"
    }
   ],
   "source": [
    "test_data"
   ]
  },
  {
   "cell_type": "markdown",
   "metadata": {},
   "source": [
    "Setup train and test data. Train data is used to train model\n",
    "Test data is used to assess how well model performs on unseen data"
   ]
  },
  {
   "cell_type": "code",
   "execution_count": 62,
   "metadata": {},
   "outputs": [],
   "source": [
    "# columns 2 (0 is first column) and onwards give us our inputs\n",
    "# column 1 gives us our label\n",
    "X_train = train_data.iloc[:, 2:].to_numpy().astype('float32')\n",
    "y_train = train_data.iloc[:, 1].to_numpy().astype('float32')\n",
    "\n",
    "X_test = test_data.iloc[:, 2:].to_numpy().astype('float32')\n",
    "y_test = test_data.iloc[:, 1].to_numpy().astype('float32')"
   ]
  },
  {
   "cell_type": "code",
   "execution_count": 63,
   "metadata": {},
   "outputs": [
    {
     "data": {
      "text/plain": [
       "(2711, 3395)"
      ]
     },
     "execution_count": 63,
     "metadata": {},
     "output_type": "execute_result"
    }
   ],
   "source": [
    "X_train.shape"
   ]
  },
  {
   "cell_type": "code",
   "execution_count": 64,
   "metadata": {},
   "outputs": [
    {
     "data": {
      "text/plain": [
       "(2711,)"
      ]
     },
     "execution_count": 64,
     "metadata": {},
     "output_type": "execute_result"
    }
   ],
   "source": [
    "y_train.shape"
   ]
  },
  {
   "cell_type": "code",
   "execution_count": 65,
   "metadata": {},
   "outputs": [
    {
     "data": {
      "text/plain": [
       "(678, 3395)"
      ]
     },
     "execution_count": 65,
     "metadata": {},
     "output_type": "execute_result"
    }
   ],
   "source": [
    "X_test.shape"
   ]
  },
  {
   "cell_type": "code",
   "execution_count": 66,
   "metadata": {},
   "outputs": [
    {
     "data": {
      "text/plain": [
       "(678,)"
      ]
     },
     "execution_count": 66,
     "metadata": {},
     "output_type": "execute_result"
    }
   ],
   "source": [
    "y_test.shape"
   ]
  },
  {
   "cell_type": "markdown",
   "metadata": {},
   "source": [
    "Let's get the lay of the land: we run PCA to see data in reduced dimension space"
   ]
  },
  {
   "cell_type": "code",
   "execution_count": 28,
   "metadata": {},
   "outputs": [],
   "source": [
    "pca_object = decomposition.PCA(n_components = 5)\n",
    "pca_object.fit(X_train)\n",
    "X_train_PCA = pca_object.transform(X_train)"
   ]
  },
  {
   "cell_type": "code",
   "execution_count": 29,
   "metadata": {},
   "outputs": [
    {
     "data": {
      "text/plain": [
       "(2711, 5)"
      ]
     },
     "execution_count": 29,
     "metadata": {},
     "output_type": "execute_result"
    }
   ],
   "source": [
    "X_train_PCA.shape"
   ]
  },
  {
   "cell_type": "code",
   "execution_count": 35,
   "metadata": {},
   "outputs": [
    {
     "data": {
      "text/plain": [
       "[Text(0.5, 0, 'PC'), Text(0, 0.5, 'Variance Explained')]"
      ]
     },
     "execution_count": 35,
     "metadata": {},
     "output_type": "execute_result"
    },
    {
     "data": {
      "image/png": "[encoded data removed]",
      "text/plain": [
       "<Figure size 432x288 with 1 Axes>"
      ]
     },
     "metadata": {
      "needs_background": "light"
     },
     "output_type": "display_data"
    }
   ],
   "source": [
    "g = se.scatterplot(x = range(1, 6), y = pca_object.explained_variance_)\n",
    "g.set(xlabel = 'PC', ylabel = 'Variance Explained')"
   ]
  },
  {
   "cell_type": "code",
   "execution_count": 38,
   "metadata": {},
   "outputs": [
    {
     "data": {
      "image/png": "[encoded data removed]",
      "text/plain": [
       "<Figure size 432x288 with 1 Axes>"
      ]
     },
     "metadata": {
      "needs_background": "light"
     },
     "output_type": "display_data"
    }
   ],
   "source": [
    "g = se.scatterplot(x = X_train_PCA[:, 0], y = X_train_PCA[:, 1], hue = y_train)"
   ]
  },
  {
   "cell_type": "code",
   "execution_count": 44,
   "metadata": {},
   "outputs": [
    {
     "data": {
      "image/png": "[encoded data removed]",
      "text/plain": [
       "<Figure size 432x288 with 1 Axes>"
      ]
     },
     "metadata": {
      "needs_background": "light"
     },
     "output_type": "display_data"
    }
   ],
   "source": [
    "g = se.scatterplot(x = X_train_PCA[:, 2], y = X_train_PCA[:, 3], hue = y_train)"
   ]
  },
  {
   "cell_type": "code",
   "execution_count": 53,
   "metadata": {},
   "outputs": [
    {
     "name": "stderr",
     "output_type": "stream",
     "text": [
      "/home/owenwhitley/anaconda3/envs/dcgsa_hackathon/lib/python3.8/site-packages/sklearn/linear_model/_sag.py:329: ConvergenceWarning: The max_iter was reached which means the coef_ did not converge\n",
      "  warnings.warn(\"The max_iter was reached which means \"\n",
      "/home/owenwhitley/anaconda3/envs/dcgsa_hackathon/lib/python3.8/site-packages/sklearn/linear_model/_sag.py:329: ConvergenceWarning: The max_iter was reached which means the coef_ did not converge\n",
      "  warnings.warn(\"The max_iter was reached which means \"\n",
      "/home/owenwhitley/anaconda3/envs/dcgsa_hackathon/lib/python3.8/site-packages/sklearn/linear_model/_sag.py:329: ConvergenceWarning: The max_iter was reached which means the coef_ did not converge\n",
      "  warnings.warn(\"The max_iter was reached which means \"\n",
      "/home/owenwhitley/anaconda3/envs/dcgsa_hackathon/lib/python3.8/site-packages/sklearn/linear_model/_sag.py:329: ConvergenceWarning: The max_iter was reached which means the coef_ did not converge\n",
      "  warnings.warn(\"The max_iter was reached which means \"\n",
      "/home/owenwhitley/anaconda3/envs/dcgsa_hackathon/lib/python3.8/site-packages/sklearn/linear_model/_sag.py:329: ConvergenceWarning: The max_iter was reached which means the coef_ did not converge\n",
      "  warnings.warn(\"The max_iter was reached which means \"\n",
      "/home/owenwhitley/anaconda3/envs/dcgsa_hackathon/lib/python3.8/site-packages/sklearn/linear_model/_sag.py:329: ConvergenceWarning: The max_iter was reached which means the coef_ did not converge\n",
      "  warnings.warn(\"The max_iter was reached which means \"\n",
      "/home/owenwhitley/anaconda3/envs/dcgsa_hackathon/lib/python3.8/site-packages/sklearn/linear_model/_sag.py:329: ConvergenceWarning: The max_iter was reached which means the coef_ did not converge\n",
      "  warnings.warn(\"The max_iter was reached which means \"\n",
      "/home/owenwhitley/anaconda3/envs/dcgsa_hackathon/lib/python3.8/site-packages/sklearn/linear_model/_sag.py:329: ConvergenceWarning: The max_iter was reached which means the coef_ did not converge\n",
      "  warnings.warn(\"The max_iter was reached which means \"\n",
      "/home/owenwhitley/anaconda3/envs/dcgsa_hackathon/lib/python3.8/site-packages/sklearn/linear_model/_sag.py:329: ConvergenceWarning: The max_iter was reached which means the coef_ did not converge\n",
      "  warnings.warn(\"The max_iter was reached which means \"\n",
      "/home/owenwhitley/anaconda3/envs/dcgsa_hackathon/lib/python3.8/site-packages/sklearn/linear_model/_sag.py:329: ConvergenceWarning: The max_iter was reached which means the coef_ did not converge\n",
      "  warnings.warn(\"The max_iter was reached which means \"\n",
      "/home/owenwhitley/anaconda3/envs/dcgsa_hackathon/lib/python3.8/site-packages/sklearn/linear_model/_sag.py:329: ConvergenceWarning: The max_iter was reached which means the coef_ did not converge\n",
      "  warnings.warn(\"The max_iter was reached which means \"\n",
      "/home/owenwhitley/anaconda3/envs/dcgsa_hackathon/lib/python3.8/site-packages/sklearn/linear_model/_sag.py:329: ConvergenceWarning: The max_iter was reached which means the coef_ did not converge\n",
      "  warnings.warn(\"The max_iter was reached which means \"\n",
      "/home/owenwhitley/anaconda3/envs/dcgsa_hackathon/lib/python3.8/site-packages/sklearn/linear_model/_sag.py:329: ConvergenceWarning: The max_iter was reached which means the coef_ did not converge\n",
      "  warnings.warn(\"The max_iter was reached which means \"\n",
      "/home/owenwhitley/anaconda3/envs/dcgsa_hackathon/lib/python3.8/site-packages/sklearn/linear_model/_sag.py:329: ConvergenceWarning: The max_iter was reached which means the coef_ did not converge\n",
      "  warnings.warn(\"The max_iter was reached which means \"\n",
      "/home/owenwhitley/anaconda3/envs/dcgsa_hackathon/lib/python3.8/site-packages/sklearn/linear_model/_sag.py:329: ConvergenceWarning: The max_iter was reached which means the coef_ did not converge\n",
      "  warnings.warn(\"The max_iter was reached which means \"\n",
      "/home/owenwhitley/anaconda3/envs/dcgsa_hackathon/lib/python3.8/site-packages/sklearn/linear_model/_sag.py:329: ConvergenceWarning: The max_iter was reached which means the coef_ did not converge\n",
      "  warnings.warn(\"The max_iter was reached which means \"\n",
      "/home/owenwhitley/anaconda3/envs/dcgsa_hackathon/lib/python3.8/site-packages/sklearn/linear_model/_sag.py:329: ConvergenceWarning: The max_iter was reached which means the coef_ did not converge\n",
      "  warnings.warn(\"The max_iter was reached which means \"\n",
      "/home/owenwhitley/anaconda3/envs/dcgsa_hackathon/lib/python3.8/site-packages/sklearn/linear_model/_sag.py:329: ConvergenceWarning: The max_iter was reached which means the coef_ did not converge\n",
      "  warnings.warn(\"The max_iter was reached which means \"\n"
     ]
    },
    {
     "data": {
      "text/plain": [
       "GridSearchCV(estimator=LogisticRegression(penalty='elasticnet', solver='saga'),\n",
       "             param_grid={'C': [1.0, 0.1], 'l1_ratio': [1.0, 0.5]})"
      ]
     },
     "execution_count": 53,
     "metadata": {},
     "output_type": "execute_result"
    }
   ],
   "source": [
    "# Let's try logistic regression\n",
    "\n",
    "logistic = LM.LogisticRegression(penalty = 'elasticnet', solver = 'saga', max_iter = 100)\n",
    "logistic_param_grid = {'C': [1.0, 0.1],\n",
    "                      'l1_ratio': [1.0, 0.5]}\n",
    "logistic_CV_search = GridSearchCV(logistic, logistic_param_grid)\n",
    "logistic_CV_search.fit(X_train[0:100, :], y_train[0:100])"
   ]
  },
  {
   "cell_type": "code",
   "execution_count": 55,
   "metadata": {},
   "outputs": [
    {
     "data": {
      "text/plain": [
       "{'C': 0.1, 'l1_ratio': 1.0}"
      ]
     },
     "execution_count": 55,
     "metadata": {},
     "output_type": "execute_result"
    }
   ],
   "source": [
    "logistic_CV_search.best_params_"
   ]
  },
  {
   "cell_type": "code",
   "execution_count": 67,
   "metadata": {},
   "outputs": [
    {
     "data": {
      "text/plain": [
       "0.7864256731833272"
      ]
     },
     "execution_count": 67,
     "metadata": {},
     "output_type": "execute_result"
    }
   ],
   "source": [
    "# classifier doesn't do bad on train data\n",
    "logistic_CV_search.score(X_train, y_train)"
   ]
  },
  {
   "cell_type": "code",
   "execution_count": 68,
   "metadata": {},
   "outputs": [
    {
     "data": {
      "text/plain": [
       "0.7831858407079646"
      ]
     },
     "execution_count": 68,
     "metadata": {},
     "output_type": "execute_result"
    }
   ],
   "source": [
    "# classifier doesn't do bad on test data\n",
    "logistic_CV_search.score(X_test, y_test)"
   ]
  },
  {
   "cell_type": "code",
   "execution_count": 83,
   "metadata": {},
   "outputs": [
    {
     "data": {
      "text/plain": [
       "GridSearchCV(estimator=KNeighborsClassifier(),\n",
       "             param_grid={'n_neighbors': range(10, 16)})"
      ]
     },
     "execution_count": 83,
     "metadata": {},
     "output_type": "execute_result"
    }
   ],
   "source": [
    "# Try KNN\n",
    "KNN = NB.KNeighborsClassifier()\n",
    "KNN_param_grid = {'n_neighbors': range(10,16)}\n",
    "KNN_CV_search = GridSearchCV(KNN, KNN_param_grid)\n",
    "KNN_CV_search.fit(X_train[0:1000, :], y_train[0:1000])"
   ]
  },
  {
   "cell_type": "code",
   "execution_count": 84,
   "metadata": {},
   "outputs": [
    {
     "data": {
      "text/plain": [
       "{'n_neighbors': 10}"
      ]
     },
     "execution_count": 84,
     "metadata": {},
     "output_type": "execute_result"
    }
   ],
   "source": [
    "KNN_CV_search.best_params_"
   ]
  },
  {
   "cell_type": "code",
   "execution_count": 85,
   "metadata": {},
   "outputs": [
    {
     "data": {
      "text/plain": [
       "0.7967539653264478"
      ]
     },
     "execution_count": 85,
     "metadata": {},
     "output_type": "execute_result"
    }
   ],
   "source": [
    "KNN_CV_search.score(X_train, y_train)"
   ]
  },
  {
   "cell_type": "code",
   "execution_count": 86,
   "metadata": {},
   "outputs": [
    {
     "data": {
      "text/plain": [
       "0.7920353982300885"
      ]
     },
     "execution_count": 86,
     "metadata": {},
     "output_type": "execute_result"
    }
   ],
   "source": [
    "KNN_CV_search.score(X_test, y_test)"
   ]
  },
  {
   "cell_type": "code",
   "execution_count": null,
   "metadata": {},
   "outputs": [],
   "source": []
  }
 ],
 "metadata": {
  "kernelspec": {
   "display_name": "Python 3",
   "language": "python",
   "name": "python3"
  },
  "language_info": {
   "codemirror_mode": {
    "name": "ipython",
    "version": 3
   },
   "file_extension": ".py",
   "mimetype": "text/x-python",
   "name": "python",
   "nbconvert_exporter": "python",
   "pygments_lexer": "ipython3",
   "version": "3.8.5"
  }
 },
 "nbformat": 4,
 "nbformat_minor": 4
}
